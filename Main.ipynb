{
 "cells": [
  {
   "cell_type": "markdown",
   "metadata": {},
   "source": [
    "#  Aspect-Based & Opinion Mining"
   ]
  },
  {
   "cell_type": "markdown",
   "metadata": {},
   "source": [
    "Problem: identify aspects and their sentiment orientation (ratings) from a set of reviews.\n",
    "In this case the aspects are {food, service and location} and the reviews come from the Yelp dataset"
   ]
  },
  {
   "cell_type": "code",
   "execution_count": null,
   "metadata": {},
   "outputs": [
    {
     "name": "stdout",
     "output_type": "stream",
     "text": [
      "This non-commercial license of GraphLab Create for academic use is assigned to sim.ceccarelli3@stud.uniroma3.it and will expire on April 20, 2018.\n"
     ]
    },
    {
     "name": "stderr",
     "output_type": "stream",
     "text": [
      "[INFO] graphlab.cython.cy_server: GraphLab Create v2.1 started. Logging: /tmp/graphlab_server_1521366749.log\n"
     ]
    }
   ],
   "source": [
    "import graphlab as graphlab\n",
    "from graphlab import SFrame\n",
    "from graphlab import SArray\n",
    "import string\n",
    "from matplotlib import pyplot as plt\n",
    "%matplotlib inline"
   ]
  },
  {
   "cell_type": "code",
   "execution_count": null,
   "metadata": {
    "scrolled": true
   },
   "outputs": [
    {
     "data": {
      "text/html": [
       "<pre>Finished parsing file /home/simone/gitl/Yelp-Reviews-Analysis/Datasets/yelp.csv</pre>"
      ],
      "text/plain": [
       "Finished parsing file /home/simone/gitl/Yelp-Reviews-Analysis/Datasets/yelp.csv"
      ]
     },
     "metadata": {},
     "output_type": "display_data"
    },
    {
     "data": {
      "text/html": [
       "<pre>Parsing completed. Parsed 100 lines in 1.84733 secs.</pre>"
      ],
      "text/plain": [
       "Parsing completed. Parsed 100 lines in 1.84733 secs."
      ]
     },
     "metadata": {},
     "output_type": "display_data"
    },
    {
     "name": "stdout",
     "output_type": "stream",
     "text": [
      "------------------------------------------------------\n",
      "Inferred types from first 100 line(s) of file as \n",
      "column_type_hints=[str,str,str,int,str,str,str,int,int,int,int]\n",
      "If parsing fails due to incorrect types, you can correct\n",
      "the inferred type list above and pass it to read_csv in\n",
      "the column_type_hints argument\n",
      "------------------------------------------------------\n"
     ]
    },
    {
     "data": {
      "text/html": [
       "<pre>Read 148 lines. Lines per second: 75.2703</pre>"
      ],
      "text/plain": [
       "Read 148 lines. Lines per second: 75.2703"
      ]
     },
     "metadata": {},
     "output_type": "display_data"
    },
    {
     "data": {
      "text/html": [
       "<pre>Read 379 lines. Lines per second: 48.122</pre>"
      ],
      "text/plain": [
       "Read 379 lines. Lines per second: 48.122"
      ]
     },
     "metadata": {},
     "output_type": "display_data"
    },
    {
     "data": {
      "text/html": [
       "<pre>Read 379 lines. Lines per second: 25.532</pre>"
      ],
      "text/plain": [
       "Read 379 lines. Lines per second: 25.532"
      ]
     },
     "metadata": {},
     "output_type": "display_data"
    },
    {
     "data": {
      "text/html": [
       "<pre>Read 379 lines. Lines per second: 16.8279</pre>"
      ],
      "text/plain": [
       "Read 379 lines. Lines per second: 16.8279"
      ]
     },
     "metadata": {},
     "output_type": "display_data"
    },
    {
     "data": {
      "text/html": [
       "<pre>Read 569 lines. Lines per second: 19.1558</pre>"
      ],
      "text/plain": [
       "Read 569 lines. Lines per second: 19.1558"
      ]
     },
     "metadata": {},
     "output_type": "display_data"
    },
    {
     "data": {
      "text/html": [
       "<pre>Read 722 lines. Lines per second: 20.4405</pre>"
      ],
      "text/plain": [
       "Read 722 lines. Lines per second: 20.4405"
      ]
     },
     "metadata": {},
     "output_type": "display_data"
    },
    {
     "data": {
      "text/html": [
       "<pre>Read 794 lines. Lines per second: 18.8623</pre>"
      ],
      "text/plain": [
       "Read 794 lines. Lines per second: 18.8623"
      ]
     },
     "metadata": {},
     "output_type": "display_data"
    },
    {
     "data": {
      "text/html": [
       "<pre>Read 880 lines. Lines per second: 18.6259</pre>"
      ],
      "text/plain": [
       "Read 880 lines. Lines per second: 18.6259"
      ]
     },
     "metadata": {},
     "output_type": "display_data"
    },
    {
     "data": {
      "text/html": [
       "<pre>Read 1151 lines. Lines per second: 21.8125</pre>"
      ],
      "text/plain": [
       "Read 1151 lines. Lines per second: 21.8125"
      ]
     },
     "metadata": {},
     "output_type": "display_data"
    },
    {
     "data": {
      "text/html": [
       "<pre>Read 1628 lines. Lines per second: 27.955</pre>"
      ],
      "text/plain": [
       "Read 1628 lines. Lines per second: 27.955"
      ]
     },
     "metadata": {},
     "output_type": "display_data"
    },
    {
     "data": {
      "text/html": [
       "<pre>Read 1946 lines. Lines per second: 30.4308</pre>"
      ],
      "text/plain": [
       "Read 1946 lines. Lines per second: 30.4308"
      ]
     },
     "metadata": {},
     "output_type": "display_data"
    },
    {
     "data": {
      "text/html": [
       "<pre>Read 2803 lines. Lines per second: 39.7348</pre>"
      ],
      "text/plain": [
       "Read 2803 lines. Lines per second: 39.7348"
      ]
     },
     "metadata": {},
     "output_type": "display_data"
    },
    {
     "data": {
      "text/html": [
       "<pre>Read 3523 lines. Lines per second: 45.8614</pre>"
      ],
      "text/plain": [
       "Read 3523 lines. Lines per second: 45.8614"
      ]
     },
     "metadata": {},
     "output_type": "display_data"
    },
    {
     "data": {
      "text/html": [
       "<pre>Read 3697 lines. Lines per second: 44.8062</pre>"
      ],
      "text/plain": [
       "Read 3697 lines. Lines per second: 44.8062"
      ]
     },
     "metadata": {},
     "output_type": "display_data"
    },
    {
     "data": {
      "text/html": [
       "<pre>Read 3771 lines. Lines per second: 42.3027</pre>"
      ],
      "text/plain": [
       "Read 3771 lines. Lines per second: 42.3027"
      ]
     },
     "metadata": {},
     "output_type": "display_data"
    },
    {
     "data": {
      "text/html": [
       "<pre>Read 4127 lines. Lines per second: 43.397</pre>"
      ],
      "text/plain": [
       "Read 4127 lines. Lines per second: 43.397"
      ]
     },
     "metadata": {},
     "output_type": "display_data"
    },
    {
     "data": {
      "text/html": [
       "<pre>Read 4443 lines. Lines per second: 44.1182</pre>"
      ],
      "text/plain": [
       "Read 4443 lines. Lines per second: 44.1182"
      ]
     },
     "metadata": {},
     "output_type": "display_data"
    },
    {
     "data": {
      "text/html": [
       "<pre>Read 4641 lines. Lines per second: 43.2635</pre>"
      ],
      "text/plain": [
       "Read 4641 lines. Lines per second: 43.2635"
      ]
     },
     "metadata": {},
     "output_type": "display_data"
    },
    {
     "data": {
      "text/html": [
       "<pre>Read 5067 lines. Lines per second: 44.672</pre>"
      ],
      "text/plain": [
       "Read 5067 lines. Lines per second: 44.672"
      ]
     },
     "metadata": {},
     "output_type": "display_data"
    },
    {
     "data": {
      "text/html": [
       "<pre>Read 5603 lines. Lines per second: 46.9438</pre>"
      ],
      "text/plain": [
       "Read 5603 lines. Lines per second: 46.9438"
      ]
     },
     "metadata": {},
     "output_type": "display_data"
    },
    {
     "data": {
      "text/html": [
       "<pre>Read 6076 lines. Lines per second: 48.6518</pre>"
      ],
      "text/plain": [
       "Read 6076 lines. Lines per second: 48.6518"
      ]
     },
     "metadata": {},
     "output_type": "display_data"
    },
    {
     "data": {
      "text/html": [
       "<pre>Read 6320 lines. Lines per second: 48.27</pre>"
      ],
      "text/plain": [
       "Read 6320 lines. Lines per second: 48.27"
      ]
     },
     "metadata": {},
     "output_type": "display_data"
    },
    {
     "data": {
      "text/html": [
       "<pre>Read 6320 lines. Lines per second: 45.7722</pre>"
      ],
      "text/plain": [
       "Read 6320 lines. Lines per second: 45.7722"
      ]
     },
     "metadata": {},
     "output_type": "display_data"
    },
    {
     "data": {
      "text/html": [
       "<pre>Read 6424 lines. Lines per second: 44.6673</pre>"
      ],
      "text/plain": [
       "Read 6424 lines. Lines per second: 44.6673"
      ]
     },
     "metadata": {},
     "output_type": "display_data"
    },
    {
     "data": {
      "text/html": [
       "<pre>Read 6907 lines. Lines per second: 46.0881</pre>"
      ],
      "text/plain": [
       "Read 6907 lines. Lines per second: 46.0881"
      ]
     },
     "metadata": {},
     "output_type": "display_data"
    },
    {
     "data": {
      "text/html": [
       "<pre>Read 6921 lines. Lines per second: 42.3211</pre>"
      ],
      "text/plain": [
       "Read 6921 lines. Lines per second: 42.3211"
      ]
     },
     "metadata": {},
     "output_type": "display_data"
    },
    {
     "data": {
      "text/html": [
       "<pre>Read 6921 lines. Lines per second: 39.9831</pre>"
      ],
      "text/plain": [
       "Read 6921 lines. Lines per second: 39.9831"
      ]
     },
     "metadata": {},
     "output_type": "display_data"
    },
    {
     "data": {
      "text/html": [
       "<pre>Read 6921 lines. Lines per second: 38.3293</pre>"
      ],
      "text/plain": [
       "Read 6921 lines. Lines per second: 38.3293"
      ]
     },
     "metadata": {},
     "output_type": "display_data"
    },
    {
     "data": {
      "text/html": [
       "<pre>Read 7305 lines. Lines per second: 38.5753</pre>"
      ],
      "text/plain": [
       "Read 7305 lines. Lines per second: 38.5753"
      ]
     },
     "metadata": {},
     "output_type": "display_data"
    },
    {
     "data": {
      "text/html": [
       "<pre>Read 7362 lines. Lines per second: 37.4038</pre>"
      ],
      "text/plain": [
       "Read 7362 lines. Lines per second: 37.4038"
      ]
     },
     "metadata": {},
     "output_type": "display_data"
    },
    {
     "data": {
      "text/html": [
       "<pre>Read 7362 lines. Lines per second: 36.3108</pre>"
      ],
      "text/plain": [
       "Read 7362 lines. Lines per second: 36.3108"
      ]
     },
     "metadata": {},
     "output_type": "display_data"
    },
    {
     "data": {
      "text/html": [
       "<pre>Read 7493 lines. Lines per second: 35.2347</pre>"
      ],
      "text/plain": [
       "Read 7493 lines. Lines per second: 35.2347"
      ]
     },
     "metadata": {},
     "output_type": "display_data"
    },
    {
     "data": {
      "text/html": [
       "<pre>Read 7803 lines. Lines per second: 34.9355</pre>"
      ],
      "text/plain": [
       "Read 7803 lines. Lines per second: 34.9355"
      ]
     },
     "metadata": {},
     "output_type": "display_data"
    },
    {
     "data": {
      "text/html": [
       "<pre>Read 7803 lines. Lines per second: 33.0446</pre>"
      ],
      "text/plain": [
       "Read 7803 lines. Lines per second: 33.0446"
      ]
     },
     "metadata": {},
     "output_type": "display_data"
    },
    {
     "data": {
      "text/html": [
       "<pre>Read 7827 lines. Lines per second: 31.9997</pre>"
      ],
      "text/plain": [
       "Read 7827 lines. Lines per second: 31.9997"
      ]
     },
     "metadata": {},
     "output_type": "display_data"
    }
   ],
   "source": [
    "reviews = graphlab.SFrame.read_csv('../Datasets/yelp.csv')"
   ]
  },
  {
   "cell_type": "code",
   "execution_count": 1,
   "metadata": {},
   "outputs": [
    {
     "ename": "NameError",
     "evalue": "name 'reviews' is not defined",
     "output_type": "error",
     "traceback": [
      "\u001b[0;31m---------------------------------------------------------------------------\u001b[0m",
      "\u001b[0;31mNameError\u001b[0m                                 Traceback (most recent call last)",
      "\u001b[0;32m<ipython-input-1-529b2a1cb183>\u001b[0m in \u001b[0;36m<module>\u001b[0;34m()\u001b[0m\n\u001b[1;32m      7\u001b[0m     \u001b[0mnumber_of_stars\u001b[0m\u001b[0;34m[\u001b[0m\u001b[0mcurrent_review\u001b[0m\u001b[0;34m[\u001b[0m\u001b[0;34m'stars'\u001b[0m\u001b[0;34m]\u001b[0m\u001b[0;34m]\u001b[0m \u001b[0;34m+=\u001b[0m \u001b[0;36m1\u001b[0m\u001b[0;34m\u001b[0m\u001b[0m\n\u001b[1;32m      8\u001b[0m \u001b[0;34m\u001b[0m\u001b[0m\n\u001b[0;32m----> 9\u001b[0;31m \u001b[0mmap\u001b[0m\u001b[0;34m(\u001b[0m\u001b[0;32mlambda\u001b[0m \u001b[0ms\u001b[0m\u001b[0;34m:\u001b[0m \u001b[0mcalculate_the_number_of_each_stars\u001b[0m\u001b[0;34m(\u001b[0m\u001b[0ms\u001b[0m\u001b[0;34m)\u001b[0m\u001b[0;34m,\u001b[0m \u001b[0mreviews\u001b[0m\u001b[0;34m)\u001b[0m\u001b[0;34m\u001b[0m\u001b[0m\n\u001b[0m",
      "\u001b[0;31mNameError\u001b[0m: name 'reviews' is not defined"
     ]
    }
   ],
   "source": [
    "number_of_stars = list()\n",
    "i = 0\n",
    "\n",
    "def calculate_the_number_of_each_stars(current_review):\n",
    "    print(i)\n",
    "    i = i+1\n",
    "    number_of_stars[current_review['stars']] += 1\n",
    "\n",
    "map(lambda s: calculate_the_number_of_each_stars(s), reviews)"
   ]
  },
  {
   "cell_type": "code",
   "execution_count": null,
   "metadata": {},
   "outputs": [],
   "source": [
    "number_of_stars"
   ]
  },
  {
   "cell_type": "code",
   "execution_count": 87,
   "metadata": {
    "scrolled": true
   },
   "outputs": [
    {
     "data": {
      "image/png": "[encoded data removed]",
      "text/plain": [
       "<matplotlib.figure.Figure at 0x7fd2591c00d0>"
      ]
     },
     "metadata": {},
     "output_type": "display_data"
    }
   ],
   "source": [
    "def plot_data(data):\n",
    "    plt.plot(data['stars'], data['text-length'],'k.')\n",
    "    plt.xlabel('stars')\n",
    "    plt.ylabel('text-length')\n",
    "\n",
    "plot_data( reviews )"
   ]
  },
  {
   "cell_type": "markdown",
   "metadata": {},
   "source": [
    "# Text Pre-Processing"
   ]
  },
  {
   "cell_type": "raw",
   "metadata": {},
   "source": [
    "A series of operations are part of the feature design phase to extract important information from the data.\n",
    "Among the operations there are:\n",
    "    A. Punctuation Removal\n",
    "    B. Removal of stopwords\n",
    "    C. Stemming\n",
    "    D. Design Features (es: word count o TF-IDF)"
   ]
  },
  {
   "cell_type": "markdown",
   "metadata": {},
   "source": [
    "# Punctuation Removal"
   ]
  },
  {
   "cell_type": "markdown",
   "metadata": {},
   "source": [
    "punctuation is removed, because for how the reviews are made it would not make any positive contribution"
   ]
  },
  {
   "cell_type": "code",
   "execution_count": 4,
   "metadata": {},
   "outputs": [],
   "source": [
    "#Remove Punctuation\n",
    "def remove_punctuation(text):\n",
    "    return text.translate(None, string.punctuation)\n",
    "\n",
    "reviews['text'] = reviews['text'].apply(remove_punctuation)"
   ]
  },
  {
   "cell_type": "markdown",
   "metadata": {},
   "source": [
    "# Tokenization"
   ]
  },
  {
   "cell_type": "markdown",
   "metadata": {},
   "source": [
    "Tokenization is the process of dividing text into a set of meaningful pieces and these pieces are called tokens.\n",
    "Depending on the task at hand, we can define our own conditions to divide the input text into meaningful tokens.\n",
    "it will be very useful as we will need to evaluate the individual words of each review"
   ]
  },
  {
   "cell_type": "code",
   "execution_count": 126,
   "metadata": {},
   "outputs": [],
   "source": [
    "#Apply Tokenization\n",
    "tokenized_reviews = graphlab.text_analytics.tokenize(reviews['text'])\n"
   ]
  },
  {
   "cell_type": "markdown",
   "metadata": {},
   "source": [
    "# Stemming"
   ]
  },
  {
   "cell_type": "code",
   "execution_count": 127,
   "metadata": {},
   "outputs": [],
   "source": [
    "#from NTLK\n",
    "import nltk\n",
    "from nltk.stem.snowball import SnowballStemmer\n",
    "stemmer = SnowballStemmer(\"english\")"
   ]
  },
  {
   "cell_type": "code",
   "execution_count": 128,
   "metadata": {},
   "outputs": [],
   "source": [
    "def word_stemmer(actual_word):\n",
    "    ritorno = ''\n",
    "    #try - except is needed because some characters are not recognized\n",
    "    try:\n",
    "        ritorno = stemmer.stem(actual_word)\n",
    "    except UnicodeDecodeError:\n",
    "        return actual_word\n",
    "    return ritorno\n",
    "    \n",
    "    \n",
    "\n",
    "tokenized_reviews = map(lambda s: map(lambda x: word_stemmer(x) ,s),tokenized_reviews)"
   ]
  },
  {
   "cell_type": "code",
   "execution_count": 129,
   "metadata": {},
   "outputs": [],
   "source": [
    "reviews['text-tokenized'] = tokenized_reviews"
   ]
  },
  {
   "cell_type": "markdown",
   "metadata": {},
   "source": [
    "# Word Count"
   ]
  },
  {
   "cell_type": "markdown",
   "metadata": {},
   "source": [
    "the simplest way is to calculate the frequency of each word contained in each review"
   ]
  },
  {
   "cell_type": "code",
   "execution_count": 130,
   "metadata": {},
   "outputs": [],
   "source": [
    "#Bag-of-Words dictionary, word -> word_count\n",
    "dict_reviews = graphlab.text_analytics.count_words(reviews['text-tokenized'])\n"
   ]
  },
  {
   "cell_type": "markdown",
   "metadata": {},
   "source": [
    "# Stop Words"
   ]
  },
  {
   "cell_type": "raw",
   "metadata": {},
   "source": [
    "Some words do not give informative contribution (articles, pronouns, etc.) so it is not appropriate to consider them as features\n",
    "• These words are collected in the stopwords list\n",
    "• There are predefined lists of stopwords in various languages,but obviously you can create your own custon list"
   ]
  },
  {
   "cell_type": "code",
   "execution_count": 131,
   "metadata": {},
   "outputs": [],
   "source": [
    "#Remove stop-words\n",
    "dict_reviews = dict_reviews.dict_trim_by_keys(graphlab.text_analytics.stopwords(), exclude=True)"
   ]
  },
  {
   "cell_type": "markdown",
   "metadata": {},
   "source": [
    "# TF-IDF"
   ]
  },
  {
   "cell_type": "markdown",
   "metadata": {},
   "source": [
    "Not all words are the same weight within reviews => give more weight to those that are characteristic for the review"
   ]
  },
  {
   "cell_type": "code",
   "execution_count": 132,
   "metadata": {},
   "outputs": [],
   "source": [
    "#tf-idf using all the words in the reviews\n",
    "tf_idf = graphlab.text_analytics.tf_idf(dict_reviews)\n",
    "reviews['tf_idf'] = tf_idf"
   ]
  },
  {
   "cell_type": "code",
   "execution_count": 133,
   "metadata": {},
   "outputs": [
    {
     "data": {
      "text/html": [
       "<div style=\"max-height:1000px;max-width:1500px;overflow:auto;\"><table frame=\"box\" rules=\"cols\">\n",
       "    <tr>\n",
       "        <th style=\"padding-left: 1em; padding-right: 1em; text-align: center\">business_id</th>\n",
       "        <th style=\"padding-left: 1em; padding-right: 1em; text-align: center\">date</th>\n",
       "        <th style=\"padding-left: 1em; padding-right: 1em; text-align: center\">review_id</th>\n",
       "        <th style=\"padding-left: 1em; padding-right: 1em; text-align: center\">stars</th>\n",
       "        <th style=\"padding-left: 1em; padding-right: 1em; text-align: center\">text</th>\n",
       "        <th style=\"padding-left: 1em; padding-right: 1em; text-align: center\">type</th>\n",
       "    </tr>\n",
       "    <tr>\n",
       "        <td style=\"padding-left: 1em; padding-right: 1em; text-align: center; vertical-align: top\">9yKzy9PApeiPPOUJEtnvkg</td>\n",
       "        <td style=\"padding-left: 1em; padding-right: 1em; text-align: center; vertical-align: top\">2011-01-26</td>\n",
       "        <td style=\"padding-left: 1em; padding-right: 1em; text-align: center; vertical-align: top\">fWKvX83p0-ka4JS3dc6E5A</td>\n",
       "        <td style=\"padding-left: 1em; padding-right: 1em; text-align: center; vertical-align: top\">5</td>\n",
       "        <td style=\"padding-left: 1em; padding-right: 1em; text-align: center; vertical-align: top\">My wife took me here on<br>my birthday for break ...</td>\n",
       "        <td style=\"padding-left: 1em; padding-right: 1em; text-align: center; vertical-align: top\">review</td>\n",
       "    </tr>\n",
       "    <tr>\n",
       "        <td style=\"padding-left: 1em; padding-right: 1em; text-align: center; vertical-align: top\">ZRJwVLyzEJq1VAihDhYiow</td>\n",
       "        <td style=\"padding-left: 1em; padding-right: 1em; text-align: center; vertical-align: top\">2011-07-27</td>\n",
       "        <td style=\"padding-left: 1em; padding-right: 1em; text-align: center; vertical-align: top\">IjZ33sJrzXqU-0X6U8NwyA</td>\n",
       "        <td style=\"padding-left: 1em; padding-right: 1em; text-align: center; vertical-align: top\">5</td>\n",
       "        <td style=\"padding-left: 1em; padding-right: 1em; text-align: center; vertical-align: top\">I have no idea why some<br>people give bad reviews ...</td>\n",
       "        <td style=\"padding-left: 1em; padding-right: 1em; text-align: center; vertical-align: top\">review</td>\n",
       "    </tr>\n",
       "</table>\n",
       "<table frame=\"box\" rules=\"cols\">\n",
       "    <tr>\n",
       "        <th style=\"padding-left: 1em; padding-right: 1em; text-align: center\">user_id</th>\n",
       "        <th style=\"padding-left: 1em; padding-right: 1em; text-align: center\">cool</th>\n",
       "        <th style=\"padding-left: 1em; padding-right: 1em; text-align: center\">useful</th>\n",
       "        <th style=\"padding-left: 1em; padding-right: 1em; text-align: center\">funny</th>\n",
       "        <th style=\"padding-left: 1em; padding-right: 1em; text-align: center\">text-length</th>\n",
       "        <th style=\"padding-left: 1em; padding-right: 1em; text-align: center\">text-tokenized</th>\n",
       "        <th style=\"padding-left: 1em; padding-right: 1em; text-align: center\">tf_idf</th>\n",
       "    </tr>\n",
       "    <tr>\n",
       "        <td style=\"padding-left: 1em; padding-right: 1em; text-align: center; vertical-align: top\">rLtl8ZkDX5vH5nAx9C3q5Q</td>\n",
       "        <td style=\"padding-left: 1em; padding-right: 1em; text-align: center; vertical-align: top\">2</td>\n",
       "        <td style=\"padding-left: 1em; padding-right: 1em; text-align: center; vertical-align: top\">5</td>\n",
       "        <td style=\"padding-left: 1em; padding-right: 1em; text-align: center; vertical-align: top\">0</td>\n",
       "        <td style=\"padding-left: 1em; padding-right: 1em; text-align: center; vertical-align: top\">99193</td>\n",
       "        <td style=\"padding-left: 1em; padding-right: 1em; text-align: center; vertical-align: top\">[my, wife, took, me,<br>here, on, my, birthday, ...</td>\n",
       "        <td style=\"padding-left: 1em; padding-right: 1em; text-align: center; vertical-align: top\">{'ive':<br>3.7492335354248176, ...</td>\n",
       "    </tr>\n",
       "    <tr>\n",
       "        <td style=\"padding-left: 1em; padding-right: 1em; text-align: center; vertical-align: top\">0a2KyEL0d3Yb1V6aivbIuQ</td>\n",
       "        <td style=\"padding-left: 1em; padding-right: 1em; text-align: center; vertical-align: top\">0</td>\n",
       "        <td style=\"padding-left: 1em; padding-right: 1em; text-align: center; vertical-align: top\">0</td>\n",
       "        <td style=\"padding-left: 1em; padding-right: 1em; text-align: center; vertical-align: top\">0</td>\n",
       "        <td style=\"padding-left: 1em; padding-right: 1em; text-align: center; vertical-align: top\">66881</td>\n",
       "        <td style=\"padding-left: 1em; padding-right: 1em; text-align: center; vertical-align: top\">[i, have, no, idea, whi,<br>some, peopl, give, bad, ...</td>\n",
       "        <td style=\"padding-left: 1em; padding-right: 1em; text-align: center; vertical-align: top\">{'pleas':<br>3.4878787765849126, ...</td>\n",
       "    </tr>\n",
       "</table>\n",
       "<table frame=\"box\" rules=\"cols\">\n",
       "    <tr>\n",
       "        <th style=\"padding-left: 1em; padding-right: 1em; text-align: center\">sentiment</th>\n",
       "        <th style=\"padding-left: 1em; padding-right: 1em; text-align: center\">food</th>\n",
       "        <th style=\"padding-left: 1em; padding-right: 1em; text-align: center\">service</th>\n",
       "        <th style=\"padding-left: 1em; padding-right: 1em; text-align: center\">location</th>\n",
       "    </tr>\n",
       "    <tr>\n",
       "        <td style=\"padding-left: 1em; padding-right: 1em; text-align: center; vertical-align: top\">1</td>\n",
       "        <td style=\"padding-left: 1em; padding-right: 1em; text-align: center; vertical-align: top\"> perfect absolute<br>excellent amazingnnWhile ...</td>\n",
       "        <td style=\"padding-left: 1em; padding-right: 1em; text-align: center; vertical-align: top\"> semibusy earlier<br>phenomenal fresh comp ...</td>\n",
       "        <td style=\"padding-left: 1em; padding-right: 1em; text-align: center; vertical-align: top\"> excellent</td>\n",
       "    </tr>\n",
       "    <tr>\n",
       "        <td style=\"padding-left: 1em; padding-right: 1em; text-align: center; vertical-align: top\">1</td>\n",
       "        <td style=\"padding-left: 1em; padding-right: 1em; text-align: center; vertical-align: top\"> good baked small huge<br>smallest personal small ...</td>\n",
       "        <td style=\"padding-left: 1em; padding-right: 1em; text-align: center; vertical-align: top\"> past pleasant</td>\n",
       "        <td style=\"padding-left: 1em; padding-right: 1em; text-align: center; vertical-align: top\"> bad great bad</td>\n",
       "    </tr>\n",
       "</table>\n",
       "[2 rows x 17 columns]<br/>\n",
       "</div>"
      ],
      "text/plain": [
       "Columns:\n",
       "\tbusiness_id\tstr\n",
       "\tdate\tstr\n",
       "\treview_id\tstr\n",
       "\tstars\tint\n",
       "\ttext\tstr\n",
       "\ttype\tstr\n",
       "\tuser_id\tstr\n",
       "\tcool\tint\n",
       "\tuseful\tint\n",
       "\tfunny\tint\n",
       "\ttext-length\tint\n",
       "\ttext-tokenized\tlist\n",
       "\ttf_idf\tdict\n",
       "\tsentiment\tint\n",
       "\tfood\tstr\n",
       "\tservice\tstr\n",
       "\tlocation\tstr\n",
       "\n",
       "Rows: 2\n",
       "\n",
       "Data:\n",
       "+------------------------+------------+------------------------+-------+\n",
       "|      business_id       |    date    |       review_id        | stars |\n",
       "+------------------------+------------+------------------------+-------+\n",
       "| 9yKzy9PApeiPPOUJEtnvkg | 2011-01-26 | fWKvX83p0-ka4JS3dc6E5A |   5   |\n",
       "| ZRJwVLyzEJq1VAihDhYiow | 2011-07-27 | IjZ33sJrzXqU-0X6U8NwyA |   5   |\n",
       "+------------------------+------------+------------------------+-------+\n",
       "+-------------------------------+--------+------------------------+------+--------+\n",
       "|              text             |  type  |        user_id         | cool | useful |\n",
       "+-------------------------------+--------+------------------------+------+--------+\n",
       "| My wife took me here on my... | review | rLtl8ZkDX5vH5nAx9C3q5Q |  2   |   5    |\n",
       "| I have no idea why some pe... | review | 0a2KyEL0d3Yb1V6aivbIuQ |  0   |   0    |\n",
       "+-------------------------------+--------+------------------------+------+--------+\n",
       "+-------+-------------+-------------------------------+\n",
       "| funny | text-length |         text-tokenized        |\n",
       "+-------+-------------+-------------------------------+\n",
       "|   0   |    99193    | [my, wife, took, me, here,... |\n",
       "|   0   |    66881    | [i, have, no, idea, whi, s... |\n",
       "+-------+-------------+-------------------------------+\n",
       "+-------------------------------+-----------+-------------------------------+\n",
       "|             tf_idf            | sentiment |              food             |\n",
       "+-------------------------------+-----------+-------------------------------+\n",
       "| {'ive': 3.7492335354248176... |     1     |  perfect absolute excellen... |\n",
       "| {'pleas': 3.48787877658491... |     1     |  good baked small huge sma... |\n",
       "+-------------------------------+-----------+-------------------------------+\n",
       "+-------------------------------+----------------+\n",
       "|            service            |    location    |\n",
       "+-------------------------------+----------------+\n",
       "|  semibusy earlier phenomen... |    excellent   |\n",
       "|          past pleasant        |  bad great bad |\n",
       "+-------------------------------+----------------+\n",
       "[2 rows x 17 columns]"
      ]
     },
     "execution_count": 133,
     "metadata": {},
     "output_type": "execute_result"
    }
   ],
   "source": [
    "#Show result\n",
    "reviews[:2]\n",
    "#dict_reviews"
   ]
  },
  {
   "cell_type": "markdown",
   "metadata": {},
   "source": [
    "# Filtering of Relevant Reviews"
   ]
  },
  {
   "cell_type": "markdown",
   "metadata": {},
   "source": [
    "All the reviews with 3 stars are eliminated as they tend to have a neutral sentiment"
   ]
  },
  {
   "cell_type": "code",
   "execution_count": 134,
   "metadata": {},
   "outputs": [
    {
     "name": "stdout",
     "output_type": "stream",
     "text": [
      "number of reviews before filtering: 8539\n",
      "number of reviews after filtering: 8539\n"
     ]
    }
   ],
   "source": [
    "print(\"number of reviews before filtering: %d\" % (len(reviews)))\n",
    "reviews = reviews[reviews['stars'] != 3]\n",
    "print(\"number of reviews after filtering: %d\" % (len(reviews)))"
   ]
  },
  {
   "cell_type": "code",
   "execution_count": 135,
   "metadata": {},
   "outputs": [],
   "source": []
  },
  {
   "cell_type": "markdown",
   "metadata": {},
   "source": [
    "# Natural Language Toolkit"
   ]
  },
  {
   "cell_type": "markdown",
   "metadata": {},
   "source": [
    "NLTK is a platform for building python programs to work with human language data, it provides a suite of text processing libraries for classification, tokenization, stemming, tagging, parsing, and semantic reasoning, and more"
   ]
  },
  {
   "cell_type": "code",
   "execution_count": 12,
   "metadata": {
    "scrolled": true
   },
   "outputs": [],
   "source": [
    "from nltk.corpus import wordnet as wn\n",
    "from nltk.tag import pos_tag_sents"
   ]
  },
  {
   "cell_type": "markdown",
   "metadata": {},
   "source": [
    "# Categorize and Tagging Words"
   ]
  },
  {
   "cell_type": "markdown",
   "metadata": {},
   "source": [
    "in the NLP is very important the difference between nouns, verbs, adjectives, and adverbs, tagging words. so that we use NLTK to go to classify each word in one of the word classes"
   ]
  },
  {
   "cell_type": "code",
   "execution_count": 136,
   "metadata": {},
   "outputs": [],
   "source": [
    "reviews['food'] = pos_tag_sents(reviews['text-tokenized'])"
   ]
  },
  {
   "cell_type": "markdown",
   "metadata": {},
   "source": [
    "# Terms Relevant to Each Aspect"
   ]
  },
  {
   "cell_type": "code",
   "execution_count": 137,
   "metadata": {},
   "outputs": [],
   "source": [
    "important_for_food =\" menu drink breakfast plate egg spaghetti calzone pizza sauce lunch dinner cook food grub meal eat fresh veggies crisp chow victuals spread Kitchen comestibles subsistence portion provisions cheer bread\"\n",
    "important_for_service = \" service work prices ordered favor waiting use later tune-up ceremony amenity armed forces serve servicing help serving table service overhaul religious service military service \"\n",
    "important_for_place = \" location dog Park country show home  situation seat job status weather responsibility space shoes position spot property piazza lieu station \""
   ]
  },
  {
   "cell_type": "code",
   "execution_count": 138,
   "metadata": {},
   "outputs": [],
   "source": [
    "#per verificare l'efficacia delle frasi importanti selezionate\n",
    "#map(lambda s: filter(lambda c: string.find(important_for_service, c) != -1, s), reviews['text-tokenized'])\n"
   ]
  },
  {
   "cell_type": "markdown",
   "metadata": {},
   "source": [
    "# Relevant Elements"
   ]
  },
  {
   "cell_type": "markdown",
   "metadata": {},
   "source": [
    "All elements referable to an adjective or an aspect are filtered"
   ]
  },
  {
   "cell_type": "code",
   "execution_count": 140,
   "metadata": {
    "scrolled": true
   },
   "outputs": [],
   "source": [
    "reviews_with_relevant_elements = list()\n",
    "def adjective_and_aspect_filter(u):\n",
    "    #first think to do is remove the stop-words because it isn't removed before (in tokenized element)\n",
    "    if(u[0].lower() in graphlab.text_analytics.stopwords()):\n",
    "        return ''\n",
    "    if(string.find(u[1], 'JJ') != -1 or (string.find(important_for_food, u[0]) != -1) or (string.find(important_for_service, u[0]) != -1) or (string.find(important_for_place, u[0]))):\n",
    "        return u\n",
    "    else: \n",
    "        return ''\n",
    "\n",
    "reviews_with_relevant_elements.append(map(lambda s: map(lambda u: adjective_and_aspect_filter(u) ,s), reviews['food']))"
   ]
  },
  {
   "cell_type": "code",
   "execution_count": 141,
   "metadata": {},
   "outputs": [],
   "source": [
    "#normalizzazione di reviews_with_relevant_elements\n",
    "reviews_with_relevant_elements = reviews_with_relevant_elements[0]"
   ]
  },
  {
   "cell_type": "code",
   "execution_count": 142,
   "metadata": {},
   "outputs": [],
   "source": [
    "#filtriamo tutti quelli != ''\n",
    "reviews_with_relevant_elements = map(lambda s: filter(lambda x: x != '', s), reviews_with_relevant_elements)"
   ]
  },
  {
   "cell_type": "markdown",
   "metadata": {},
   "source": [
    "# Adjectives and Keywords"
   ]
  },
  {
   "cell_type": "code",
   "execution_count": 143,
   "metadata": {},
   "outputs": [],
   "source": [
    "#filtraggio dei valori con lunghezza < 3 poiche classificati erroneamente come appartenenti ad una delle 3 categorie di interesse\n",
    "#questo è dovuto al fatto che noi riusciamo a classificare in una categoria anche parole scritte male\n",
    "adjectives_and_keywords = map(lambda s: filter(lambda x: len(x[0]) > 2, s), reviews_with_relevant_elements)"
   ]
  },
  {
   "cell_type": "code",
   "execution_count": 144,
   "metadata": {},
   "outputs": [],
   "source": [
    "#smistamento degli aggettivi per le rispettive categorie\n",
    "temporary_adjectives_for_the_cooking = ''\n",
    "temporary_adjectives_for_service = ''\n",
    "temporary_adjectives_for_location = ''\n",
    "\n",
    "adjectives_cooking = list()\n",
    "adjectives_service = list()\n",
    "adjectives_location = list()\n",
    "\n",
    "temporary_actual_adjectives = ''\n",
    "\n",
    "\n",
    "def filtra_per_cucina(actual_word):\n",
    "    global temporary_adjectives_for_the_cooking, temporary_actual_adjectives, temporary_adjectives_for_location, temporary_adjectives_for_service\n",
    "    if(string.find(actual_word[1],'JJ') == -1):\n",
    "        if(temporary_actual_adjectives != ''):\n",
    "            if(string.find(important_for_place, actual_word[0]) != -1):\n",
    "                temporary_adjectives_for_location = temporary_adjectives_for_location + temporary_actual_adjectives\n",
    "                temporary_actual_adjectives = ''\n",
    "            else:\n",
    "                if(string.find(important_for_service, actual_word[0]) != -1):\n",
    "                    temporary_adjectives_for_service = temporary_adjectives_for_service + temporary_actual_adjectives\n",
    "                    temporary_actual_adjectives = ''\n",
    "                else:\n",
    "                    if(string.find(important_for_food, actual_word[0]) != -1):\n",
    "                        temporary_adjectives_for_the_cooking = temporary_adjectives_for_the_cooking + temporary_actual_adjectives\n",
    "                        temporary_actual_adjectives = ''\n",
    "    else:\n",
    "        temporary_actual_adjectives = temporary_actual_adjectives + \" \" + actual_word[0]\n",
    "        \n",
    "def init(actual_review):\n",
    "    global temporary_adjectives_for_the_cooking, temporary_adjectives_for_location, temporary_adjectives_for_service, temporary_actual_adjectives\n",
    "    temporary_actual_adjectives = ''\n",
    "    map(lambda x: filtra_per_cucina(x), actual_review)\n",
    "    #nel caso in cui vi siano rimasti aggettivi inerenti ad una review non assegnati a nessuna categoria essi\n",
    "    #verranno associati alla cucina poichè molto probabilmente si riferisce alla cucina\n",
    "  \n",
    "    if(temporary_actual_adjectives != ''):\n",
    "        temporary_adjectives_for_the_cooking = temporary_adjectives_for_the_cooking + temporary_actual_adjectives\n",
    "    \n",
    "    adjectives_cooking.append(temporary_adjectives_for_the_cooking)\n",
    "    adjectives_service.append(temporary_adjectives_for_service)\n",
    "    adjectives_location.append(temporary_adjectives_for_location)\n",
    "    \n",
    "    temporary_adjectives_for_the_cooking = ''\n",
    "    temporary_adjectives_for_service = ''\n",
    "    temporary_adjectives_for_location = ''\n",
    "\n",
    "aggettivi_per = map(lambda s: init(s), adjectives_and_keywords)"
   ]
  },
  {
   "cell_type": "markdown",
   "metadata": {},
   "source": [
    "# Split Into Three Indipendent SFrame "
   ]
  },
  {
   "cell_type": "code",
   "execution_count": 145,
   "metadata": {},
   "outputs": [],
   "source": [
    "#da list to list ad SArray\n",
    "reviews['food'] = SArray(adjectives_cooking)\n",
    "reviews['service'] = SArray(adjectives_service)\n",
    "reviews['location'] = SArray(adjectives_location)"
   ]
  },
  {
   "cell_type": "code",
   "execution_count": 146,
   "metadata": {},
   "outputs": [],
   "source": [
    "#preparazione SFrame per ogni categoria poichè così all'atto del training si può andare a valutare per ogni \n",
    "#categoria le reviews di interesse poichè può essere che in una categoria vi siano valori nulli\n",
    "\n",
    "#SFrame per cucina\n",
    "reviews_food = graphlab.SFrame({'food': adjectives_cooking})\n",
    "\n",
    "#SFrame per servizio\n",
    "reviews_service = graphlab.SFrame({'service': adjectives_service})\n",
    "\n",
    "#SFrame per location\n",
    "reviews_location = graphlab.SFrame({'location': adjectives_location})"
   ]
  },
  {
   "cell_type": "code",
   "execution_count": 147,
   "metadata": {},
   "outputs": [],
   "source": [
    "#elimino tutti quelli che hanno campo vuoto '' così che non mi vadano ad addestrare male il classificatore\n",
    "reviews_service = reviews_service[reviews_service['service'] != '']\n",
    "reviews_food = reviews_food[reviews_food['food'] != '']\n",
    "reviews_location = reviews_location[reviews_location['location'] != '']\n"
   ]
  },
  {
   "cell_type": "code",
   "execution_count": 148,
   "metadata": {},
   "outputs": [],
   "source": [
    "#tokenizzazione\n",
    "tokenized_food = graphlab.text_analytics.tokenize(reviews_food['food'])\n",
    "tokenized_service = graphlab.text_analytics.tokenize(reviews_service['service'])\n",
    "tokenized_location = graphlab.text_analytics.tokenize(reviews_location['location'])\n",
    "\n",
    "reviews_food['food_tokenized'] = tokenized_food\n",
    "reviews_service['service_tokenized'] = tokenized_service\n",
    "reviews_location['location_tokenized'] = tokenized_location"
   ]
  },
  {
   "cell_type": "code",
   "execution_count": 149,
   "metadata": {},
   "outputs": [],
   "source": [
    "#Bag-of-Words dictionary, word -> word_count\n",
    "dict_reviews_food = graphlab.text_analytics.count_words(reviews_food['food_tokenized'])\n",
    "dict_reviews_service = graphlab.text_analytics.count_words(reviews_service['service_tokenized'])\n",
    "dict_reviews_location = graphlab.text_analytics.count_words(reviews_location['location_tokenized'])\n"
   ]
  },
  {
   "cell_type": "code",
   "execution_count": 150,
   "metadata": {},
   "outputs": [],
   "source": [
    "#tf-idf using all the words in the reviews\n",
    "tf_idf_food = graphlab.text_analytics.tf_idf(dict_reviews_food)\n",
    "tf_idf_service = graphlab.text_analytics.tf_idf(dict_reviews_service)\n",
    "tf_idf_location = graphlab.text_analytics.tf_idf(dict_reviews_location)"
   ]
  },
  {
   "cell_type": "code",
   "execution_count": 151,
   "metadata": {},
   "outputs": [],
   "source": [
    "reviews_food['tf_idf_food'] = tf_idf_food\n",
    "reviews_service['tf_idf_service'] = tf_idf_service\n",
    "reviews_location['tf_idf_location'] = tf_idf_location"
   ]
  },
  {
   "cell_type": "markdown",
   "metadata": {},
   "source": [
    "# Sentiment Analisys for Every Aspect of Interest"
   ]
  },
  {
   "cell_type": "markdown",
   "metadata": {},
   "source": [
    "Important for calculating the sentiment columns"
   ]
  },
  {
   "cell_type": "code",
   "execution_count": 152,
   "metadata": {},
   "outputs": [],
   "source": [
    "def predictions_mean(data, topic):\n",
    "    m = None\n",
    "    m = graphlab.sentiment_analysis.create(data, features=topic)\n",
    "    predictions = m.predict(data)\n",
    "    return predictions \n",
    "    \n",
    "\n",
    "sentiment_food = predictions_mean(reviews_food,'food')\n",
    "sentiment_service = predictions_mean(reviews_service,'service')\n",
    "sentiment_location = predictions_mean(reviews_location,'location')"
   ]
  },
  {
   "cell_type": "code",
   "execution_count": 153,
   "metadata": {},
   "outputs": [],
   "source": [
    "reviews_food['sentiment'] = sentiment_food.apply(lambda rating: +1 if rating > 0.5 else -1 )                                      \n",
    "reviews_service['sentiment'] = sentiment_service.apply(lambda rating: +1 if rating > 0.5 else -1)\n",
    "reviews_location['sentiment'] = sentiment_location.apply(lambda rating: +1 if rating > 0.5 else -1)"
   ]
  },
  {
   "cell_type": "code",
   "execution_count": null,
   "metadata": {},
   "outputs": [],
   "source": [
    "#sentiment for the reviews without the analysis of the aspects\n",
    "#Introduce the sentiment -> +1 (good) for 4+ stars, -1 (bad) for 3- stars\n",
    "reviews['sentiment'] = reviews['stars'].apply(lambda rating: +1 if rating > 3 else -1)"
   ]
  },
  {
   "cell_type": "markdown",
   "metadata": {},
   "source": [
    "# Classificazioni"
   ]
  },
  {
   "cell_type": "code",
   "execution_count": 154,
   "metadata": {},
   "outputs": [],
   "source": [
    "train_data_cucina, test_data_cucina = reviews_food.random_split(.8, seed = 0)\n",
    "train_data_servizio, test_data_servizio = reviews_service.random_split(.8, seed = 0)\n",
    "train_data_location, test_data_location = reviews_location.random_split(.8, seed = 0)\n",
    "train_data_sentiment, test_data_sentiment = reviews.random_split(.8, seed = 0)"
   ]
  },
  {
   "cell_type": "code",
   "execution_count": 155,
   "metadata": {},
   "outputs": [
    {
     "name": "stdout",
     "output_type": "stream",
     "text": [
      "PROGRESS: Creating a validation set from 5 percent of training data. This may take a while.\n",
      "          You can set ``validation_set=None`` to disable validation tracking.\n",
      "\n"
     ]
    },
    {
     "data": {
      "text/html": [
       "<pre>WARNING: The number of feature dimensions in this problem is very large in comparison with the number of examples. Unless an appropriate regularization value is set, this model may not provide accurate predictions for a validation/test set.</pre>"
      ],
      "text/plain": [
       "WARNING: The number of feature dimensions in this problem is very large in comparison with the number of examples. Unless an appropriate regularization value is set, this model may not provide accurate predictions for a validation/test set."
      ]
     },
     "metadata": {},
     "output_type": "display_data"
    },
    {
     "data": {
      "text/html": [
       "<pre>SVM:</pre>"
      ],
      "text/plain": [
       "SVM:"
      ]
     },
     "metadata": {},
     "output_type": "display_data"
    },
    {
     "data": {
      "text/html": [
       "<pre>--------------------------------------------------------</pre>"
      ],
      "text/plain": [
       "--------------------------------------------------------"
      ]
     },
     "metadata": {},
     "output_type": "display_data"
    },
    {
     "data": {
      "text/html": [
       "<pre>Number of examples          : 5885</pre>"
      ],
      "text/plain": [
       "Number of examples          : 5885"
      ]
     },
     "metadata": {},
     "output_type": "display_data"
    },
    {
     "data": {
      "text/html": [
       "<pre>Number of classes           : 2</pre>"
      ],
      "text/plain": [
       "Number of classes           : 2"
      ]
     },
     "metadata": {},
     "output_type": "display_data"
    },
    {
     "data": {
      "text/html": [
       "<pre>Number of feature columns   : 1</pre>"
      ],
      "text/plain": [
       "Number of feature columns   : 1"
      ]
     },
     "metadata": {},
     "output_type": "display_data"
    },
    {
     "data": {
      "text/html": [
       "<pre>Number of unpacked features : 6199</pre>"
      ],
      "text/plain": [
       "Number of unpacked features : 6199"
      ]
     },
     "metadata": {},
     "output_type": "display_data"
    },
    {
     "data": {
      "text/html": [
       "<pre>Number of coefficients    : 6200</pre>"
      ],
      "text/plain": [
       "Number of coefficients    : 6200"
      ]
     },
     "metadata": {},
     "output_type": "display_data"
    },
    {
     "data": {
      "text/html": [
       "<pre>Starting L-BFGS</pre>"
      ],
      "text/plain": [
       "Starting L-BFGS"
      ]
     },
     "metadata": {},
     "output_type": "display_data"
    },
    {
     "data": {
      "text/html": [
       "<pre>--------------------------------------------------------</pre>"
      ],
      "text/plain": [
       "--------------------------------------------------------"
      ]
     },
     "metadata": {},
     "output_type": "display_data"
    },
    {
     "data": {
      "text/html": [
       "<pre>+-----------+----------+-----------+--------------+-------------------+---------------------+</pre>"
      ],
      "text/plain": [
       "+-----------+----------+-----------+--------------+-------------------+---------------------+"
      ]
     },
     "metadata": {},
     "output_type": "display_data"
    },
    {
     "data": {
      "text/html": [
       "<pre>| Iteration | Passes   | Step size | Elapsed Time | Training-accuracy | Validation-accuracy |</pre>"
      ],
      "text/plain": [
       "| Iteration | Passes   | Step size | Elapsed Time | Training-accuracy | Validation-accuracy |"
      ]
     },
     "metadata": {},
     "output_type": "display_data"
    },
    {
     "data": {
      "text/html": [
       "<pre>+-----------+----------+-----------+--------------+-------------------+---------------------+</pre>"
      ],
      "text/plain": [
       "+-----------+----------+-----------+--------------+-------------------+---------------------+"
      ]
     },
     "metadata": {},
     "output_type": "display_data"
    },
    {
     "data": {
      "text/html": [
       "<pre>| 1         | 3        | 0.000170  | 0.082320     | 0.889890          | 0.894081            |</pre>"
      ],
      "text/plain": [
       "| 1         | 3        | 0.000170  | 0.082320     | 0.889890          | 0.894081            |"
      ]
     },
     "metadata": {},
     "output_type": "display_data"
    },
    {
     "data": {
      "text/html": [
       "<pre>| 2         | 5        | 1.000000  | 0.159998     | 0.929312          | 0.903427            |</pre>"
      ],
      "text/plain": [
       "| 2         | 5        | 1.000000  | 0.159998     | 0.929312          | 0.903427            |"
      ]
     },
     "metadata": {},
     "output_type": "display_data"
    },
    {
     "data": {
      "text/html": [
       "<pre>| 3         | 6        | 1.000000  | 0.201180     | 0.981308          | 0.912773            |</pre>"
      ],
      "text/plain": [
       "| 3         | 6        | 1.000000  | 0.201180     | 0.981308          | 0.912773            |"
      ]
     },
     "metadata": {},
     "output_type": "display_data"
    },
    {
     "data": {
      "text/html": [
       "<pre>| 4         | 7        | 1.000000  | 0.248144     | 0.993713          | 0.928349            |</pre>"
      ],
      "text/plain": [
       "| 4         | 7        | 1.000000  | 0.248144     | 0.993713          | 0.928349            |"
      ]
     },
     "metadata": {},
     "output_type": "display_data"
    },
    {
     "data": {
      "text/html": [
       "<pre>| 5         | 8        | 1.000000  | 0.289545     | 0.995752          | 0.931464            |</pre>"
      ],
      "text/plain": [
       "| 5         | 8        | 1.000000  | 0.289545     | 0.995752          | 0.931464            |"
      ]
     },
     "metadata": {},
     "output_type": "display_data"
    },
    {
     "data": {
      "text/html": [
       "<pre>| 6         | 9        | 1.000000  | 0.327371     | 0.996262          | 0.931464            |</pre>"
      ],
      "text/plain": [
       "| 6         | 9        | 1.000000  | 0.327371     | 0.996262          | 0.931464            |"
      ]
     },
     "metadata": {},
     "output_type": "display_data"
    },
    {
     "data": {
      "text/html": [
       "<pre>| 11        | 14       | 1.000000  | 0.533317     | 0.998301          | 0.931464            |</pre>"
      ],
      "text/plain": [
       "| 11        | 14       | 1.000000  | 0.533317     | 0.998301          | 0.931464            |"
      ]
     },
     "metadata": {},
     "output_type": "display_data"
    },
    {
     "data": {
      "text/html": [
       "<pre>| 25        | 28       | 1.000000  | 0.983623     | 0.999490          | 0.925234            |</pre>"
      ],
      "text/plain": [
       "| 25        | 28       | 1.000000  | 0.983623     | 0.999490          | 0.925234            |"
      ]
     },
     "metadata": {},
     "output_type": "display_data"
    },
    {
     "data": {
      "text/html": [
       "<pre>+-----------+----------+-----------+--------------+-------------------+---------------------+</pre>"
      ],
      "text/plain": [
       "+-----------+----------+-----------+--------------+-------------------+---------------------+"
      ]
     },
     "metadata": {},
     "output_type": "display_data"
    },
    {
     "data": {
      "text/html": [
       "<pre>TERMINATED: Iteration limit reached.</pre>"
      ],
      "text/plain": [
       "TERMINATED: Iteration limit reached."
      ]
     },
     "metadata": {},
     "output_type": "display_data"
    },
    {
     "data": {
      "text/html": [
       "<pre>This model may not be optimal. To improve it, consider increasing `max_iterations`.</pre>"
      ],
      "text/plain": [
       "This model may not be optimal. To improve it, consider increasing `max_iterations`."
      ]
     },
     "metadata": {},
     "output_type": "display_data"
    },
    {
     "name": "stdout",
     "output_type": "stream",
     "text": [
      "PROGRESS: Creating a validation set from 5 percent of training data. This may take a while.\n",
      "          You can set ``validation_set=None`` to disable validation tracking.\n",
      "\n"
     ]
    },
    {
     "data": {
      "text/html": [
       "<pre>WARNING: The number of feature dimensions in this problem is very large in comparison with the number of examples. Unless an appropriate regularization value is set, this model may not provide accurate predictions for a validation/test set.</pre>"
      ],
      "text/plain": [
       "WARNING: The number of feature dimensions in this problem is very large in comparison with the number of examples. Unless an appropriate regularization value is set, this model may not provide accurate predictions for a validation/test set."
      ]
     },
     "metadata": {},
     "output_type": "display_data"
    },
    {
     "data": {
      "text/html": [
       "<pre>SVM:</pre>"
      ],
      "text/plain": [
       "SVM:"
      ]
     },
     "metadata": {},
     "output_type": "display_data"
    },
    {
     "data": {
      "text/html": [
       "<pre>--------------------------------------------------------</pre>"
      ],
      "text/plain": [
       "--------------------------------------------------------"
      ]
     },
     "metadata": {},
     "output_type": "display_data"
    },
    {
     "data": {
      "text/html": [
       "<pre>Number of examples          : 3612</pre>"
      ],
      "text/plain": [
       "Number of examples          : 3612"
      ]
     },
     "metadata": {},
     "output_type": "display_data"
    },
    {
     "data": {
      "text/html": [
       "<pre>Number of classes           : 2</pre>"
      ],
      "text/plain": [
       "Number of classes           : 2"
      ]
     },
     "metadata": {},
     "output_type": "display_data"
    },
    {
     "data": {
      "text/html": [
       "<pre>Number of feature columns   : 1</pre>"
      ],
      "text/plain": [
       "Number of feature columns   : 1"
      ]
     },
     "metadata": {},
     "output_type": "display_data"
    },
    {
     "data": {
      "text/html": [
       "<pre>Number of unpacked features : 3846</pre>"
      ],
      "text/plain": [
       "Number of unpacked features : 3846"
      ]
     },
     "metadata": {},
     "output_type": "display_data"
    },
    {
     "data": {
      "text/html": [
       "<pre>Number of coefficients    : 3847</pre>"
      ],
      "text/plain": [
       "Number of coefficients    : 3847"
      ]
     },
     "metadata": {},
     "output_type": "display_data"
    },
    {
     "data": {
      "text/html": [
       "<pre>Starting L-BFGS</pre>"
      ],
      "text/plain": [
       "Starting L-BFGS"
      ]
     },
     "metadata": {},
     "output_type": "display_data"
    },
    {
     "data": {
      "text/html": [
       "<pre>--------------------------------------------------------</pre>"
      ],
      "text/plain": [
       "--------------------------------------------------------"
      ]
     },
     "metadata": {},
     "output_type": "display_data"
    },
    {
     "data": {
      "text/html": [
       "<pre>+-----------+----------+-----------+--------------+-------------------+---------------------+</pre>"
      ],
      "text/plain": [
       "+-----------+----------+-----------+--------------+-------------------+---------------------+"
      ]
     },
     "metadata": {},
     "output_type": "display_data"
    },
    {
     "data": {
      "text/html": [
       "<pre>| Iteration | Passes   | Step size | Elapsed Time | Training-accuracy | Validation-accuracy |</pre>"
      ],
      "text/plain": [
       "| Iteration | Passes   | Step size | Elapsed Time | Training-accuracy | Validation-accuracy |"
      ]
     },
     "metadata": {},
     "output_type": "display_data"
    },
    {
     "data": {
      "text/html": [
       "<pre>+-----------+----------+-----------+--------------+-------------------+---------------------+</pre>"
      ],
      "text/plain": [
       "+-----------+----------+-----------+--------------+-------------------+---------------------+"
      ]
     },
     "metadata": {},
     "output_type": "display_data"
    },
    {
     "data": {
      "text/html": [
       "<pre>| 1         | 3        | 0.000277  | 0.050840     | 0.895072          | 0.890710            |</pre>"
      ],
      "text/plain": [
       "| 1         | 3        | 0.000277  | 0.050840     | 0.895072          | 0.890710            |"
      ]
     },
     "metadata": {},
     "output_type": "display_data"
    },
    {
     "data": {
      "text/html": [
       "<pre>| 2         | 5        | 1.000000  | 0.090396     | 0.946567          | 0.907104            |</pre>"
      ],
      "text/plain": [
       "| 2         | 5        | 1.000000  | 0.090396     | 0.946567          | 0.907104            |"
      ]
     },
     "metadata": {},
     "output_type": "display_data"
    },
    {
     "data": {
      "text/html": [
       "<pre>| 3         | 6        | 1.000000  | 0.117736     | 0.988095          | 0.928962            |</pre>"
      ],
      "text/plain": [
       "| 3         | 6        | 1.000000  | 0.117736     | 0.988095          | 0.928962            |"
      ]
     },
     "metadata": {},
     "output_type": "display_data"
    },
    {
     "data": {
      "text/html": [
       "<pre>| 4         | 7        | 1.000000  | 0.141021     | 0.993909          | 0.928962            |</pre>"
      ],
      "text/plain": [
       "| 4         | 7        | 1.000000  | 0.141021     | 0.993909          | 0.928962            |"
      ]
     },
     "metadata": {},
     "output_type": "display_data"
    },
    {
     "data": {
      "text/html": [
       "<pre>| 5         | 8        | 1.000000  | 0.170157     | 0.995570          | 0.928962            |</pre>"
      ],
      "text/plain": [
       "| 5         | 8        | 1.000000  | 0.170157     | 0.995570          | 0.928962            |"
      ]
     },
     "metadata": {},
     "output_type": "display_data"
    },
    {
     "data": {
      "text/html": [
       "<pre>| 6         | 9        | 1.000000  | 0.191363     | 0.996124          | 0.928962            |</pre>"
      ],
      "text/plain": [
       "| 6         | 9        | 1.000000  | 0.191363     | 0.996124          | 0.928962            |"
      ]
     },
     "metadata": {},
     "output_type": "display_data"
    },
    {
     "data": {
      "text/html": [
       "<pre>| 11        | 14       | 1.000000  | 0.299686     | 0.997508          | 0.934426            |</pre>"
      ],
      "text/plain": [
       "| 11        | 14       | 1.000000  | 0.299686     | 0.997508          | 0.934426            |"
      ]
     },
     "metadata": {},
     "output_type": "display_data"
    },
    {
     "data": {
      "text/html": [
       "<pre>+-----------+----------+-----------+--------------+-------------------+---------------------+</pre>"
      ],
      "text/plain": [
       "+-----------+----------+-----------+--------------+-------------------+---------------------+"
      ]
     },
     "metadata": {},
     "output_type": "display_data"
    },
    {
     "data": {
      "text/html": [
       "<pre>TERMINATED: Iteration limit reached.</pre>"
      ],
      "text/plain": [
       "TERMINATED: Iteration limit reached."
      ]
     },
     "metadata": {},
     "output_type": "display_data"
    },
    {
     "name": "stdout",
     "output_type": "stream",
     "text": [
      "PROGRESS: Creating a validation set from 5 percent of training data. This may take a while.\n",
      "          You can set ``validation_set=None`` to disable validation tracking.\n",
      "\n"
     ]
    },
    {
     "data": {
      "text/html": [
       "<pre>This model may not be optimal. To improve it, consider increasing `max_iterations`.</pre>"
      ],
      "text/plain": [
       "This model may not be optimal. To improve it, consider increasing `max_iterations`."
      ]
     },
     "metadata": {},
     "output_type": "display_data"
    },
    {
     "data": {
      "text/html": [
       "<pre>WARNING: The number of feature dimensions in this problem is very large in comparison with the number of examples. Unless an appropriate regularization value is set, this model may not provide accurate predictions for a validation/test set.</pre>"
      ],
      "text/plain": [
       "WARNING: The number of feature dimensions in this problem is very large in comparison with the number of examples. Unless an appropriate regularization value is set, this model may not provide accurate predictions for a validation/test set."
      ]
     },
     "metadata": {},
     "output_type": "display_data"
    },
    {
     "data": {
      "text/html": [
       "<pre>SVM:</pre>"
      ],
      "text/plain": [
       "SVM:"
      ]
     },
     "metadata": {},
     "output_type": "display_data"
    },
    {
     "data": {
      "text/html": [
       "<pre>--------------------------------------------------------</pre>"
      ],
      "text/plain": [
       "--------------------------------------------------------"
      ]
     },
     "metadata": {},
     "output_type": "display_data"
    },
    {
     "data": {
      "text/html": [
       "<pre>Number of examples          : 2468</pre>"
      ],
      "text/plain": [
       "Number of examples          : 2468"
      ]
     },
     "metadata": {},
     "output_type": "display_data"
    },
    {
     "data": {
      "text/html": [
       "<pre>Number of classes           : 2</pre>"
      ],
      "text/plain": [
       "Number of classes           : 2"
      ]
     },
     "metadata": {},
     "output_type": "display_data"
    },
    {
     "data": {
      "text/html": [
       "<pre>Number of feature columns   : 1</pre>"
      ],
      "text/plain": [
       "Number of feature columns   : 1"
      ]
     },
     "metadata": {},
     "output_type": "display_data"
    },
    {
     "data": {
      "text/html": [
       "<pre>Number of unpacked features : 2922</pre>"
      ],
      "text/plain": [
       "Number of unpacked features : 2922"
      ]
     },
     "metadata": {},
     "output_type": "display_data"
    },
    {
     "data": {
      "text/html": [
       "<pre>Number of coefficients    : 2923</pre>"
      ],
      "text/plain": [
       "Number of coefficients    : 2923"
      ]
     },
     "metadata": {},
     "output_type": "display_data"
    },
    {
     "data": {
      "text/html": [
       "<pre>Starting L-BFGS</pre>"
      ],
      "text/plain": [
       "Starting L-BFGS"
      ]
     },
     "metadata": {},
     "output_type": "display_data"
    },
    {
     "data": {
      "text/html": [
       "<pre>--------------------------------------------------------</pre>"
      ],
      "text/plain": [
       "--------------------------------------------------------"
      ]
     },
     "metadata": {},
     "output_type": "display_data"
    },
    {
     "data": {
      "text/html": [
       "<pre>+-----------+----------+-----------+--------------+-------------------+---------------------+</pre>"
      ],
      "text/plain": [
       "+-----------+----------+-----------+--------------+-------------------+---------------------+"
      ]
     },
     "metadata": {},
     "output_type": "display_data"
    },
    {
     "data": {
      "text/html": [
       "<pre>| Iteration | Passes   | Step size | Elapsed Time | Training-accuracy | Validation-accuracy |</pre>"
      ],
      "text/plain": [
       "| Iteration | Passes   | Step size | Elapsed Time | Training-accuracy | Validation-accuracy |"
      ]
     },
     "metadata": {},
     "output_type": "display_data"
    },
    {
     "data": {
      "text/html": [
       "<pre>+-----------+----------+-----------+--------------+-------------------+---------------------+</pre>"
      ],
      "text/plain": [
       "+-----------+----------+-----------+--------------+-------------------+---------------------+"
      ]
     },
     "metadata": {},
     "output_type": "display_data"
    },
    {
     "data": {
      "text/html": [
       "<pre>| 1         | 3        | 0.000405  | 0.044219     | 0.913290          | 0.921429            |</pre>"
      ],
      "text/plain": [
       "| 1         | 3        | 0.000405  | 0.044219     | 0.913290          | 0.921429            |"
      ]
     },
     "metadata": {},
     "output_type": "display_data"
    },
    {
     "data": {
      "text/html": [
       "<pre>| 2         | 5        | 1.000000  | 0.067330     | 0.962318          | 0.921429            |</pre>"
      ],
      "text/plain": [
       "| 2         | 5        | 1.000000  | 0.067330     | 0.962318          | 0.921429            |"
      ]
     },
     "metadata": {},
     "output_type": "display_data"
    },
    {
     "data": {
      "text/html": [
       "<pre>| 3         | 6        | 1.000000  | 0.082679     | 0.990681          | 0.921429            |</pre>"
      ],
      "text/plain": [
       "| 3         | 6        | 1.000000  | 0.082679     | 0.990681          | 0.921429            |"
      ]
     },
     "metadata": {},
     "output_type": "display_data"
    },
    {
     "data": {
      "text/html": [
       "<pre>| 4         | 7        | 1.000000  | 0.095090     | 0.997164          | 0.928571            |</pre>"
      ],
      "text/plain": [
       "| 4         | 7        | 1.000000  | 0.095090     | 0.997164          | 0.928571            |"
      ]
     },
     "metadata": {},
     "output_type": "display_data"
    },
    {
     "data": {
      "text/html": [
       "<pre>| 5         | 8        | 1.000000  | 0.106600     | 0.997974          | 0.928571            |</pre>"
      ],
      "text/plain": [
       "| 5         | 8        | 1.000000  | 0.106600     | 0.997974          | 0.928571            |"
      ]
     },
     "metadata": {},
     "output_type": "display_data"
    },
    {
     "data": {
      "text/html": [
       "<pre>| 6         | 9        | 1.000000  | 0.118469     | 0.999595          | 0.921429            |</pre>"
      ],
      "text/plain": [
       "| 6         | 9        | 1.000000  | 0.118469     | 0.999595          | 0.921429            |"
      ]
     },
     "metadata": {},
     "output_type": "display_data"
    },
    {
     "data": {
      "text/html": [
       "<pre>| 11        | 14       | 1.000000  | 0.177430     | 0.999595          | 0.928571            |</pre>"
      ],
      "text/plain": [
       "| 11        | 14       | 1.000000  | 0.177430     | 0.999595          | 0.928571            |"
      ]
     },
     "metadata": {},
     "output_type": "display_data"
    },
    {
     "data": {
      "text/html": [
       "<pre>+-----------+----------+-----------+--------------+-------------------+---------------------+</pre>"
      ],
      "text/plain": [
       "+-----------+----------+-----------+--------------+-------------------+---------------------+"
      ]
     },
     "metadata": {},
     "output_type": "display_data"
    },
    {
     "data": {
      "text/html": [
       "<pre>TERMINATED: Iteration limit reached.</pre>"
      ],
      "text/plain": [
       "TERMINATED: Iteration limit reached."
      ]
     },
     "metadata": {},
     "output_type": "display_data"
    },
    {
     "name": "stdout",
     "output_type": "stream",
     "text": [
      "PROGRESS: Creating a validation set from 5 percent of training data. This may take a while.\n",
      "          You can set ``validation_set=None`` to disable validation tracking.\n",
      "\n"
     ]
    },
    {
     "data": {
      "text/html": [
       "<pre>This model may not be optimal. To improve it, consider increasing `max_iterations`.</pre>"
      ],
      "text/plain": [
       "This model may not be optimal. To improve it, consider increasing `max_iterations`."
      ]
     },
     "metadata": {},
     "output_type": "display_data"
    },
    {
     "data": {
      "text/html": [
       "<pre>WARNING: The number of feature dimensions in this problem is very large in comparison with the number of examples. Unless an appropriate regularization value is set, this model may not provide accurate predictions for a validation/test set.</pre>"
      ],
      "text/plain": [
       "WARNING: The number of feature dimensions in this problem is very large in comparison with the number of examples. Unless an appropriate regularization value is set, this model may not provide accurate predictions for a validation/test set."
      ]
     },
     "metadata": {},
     "output_type": "display_data"
    },
    {
     "data": {
      "text/html": [
       "<pre>SVM:</pre>"
      ],
      "text/plain": [
       "SVM:"
      ]
     },
     "metadata": {},
     "output_type": "display_data"
    },
    {
     "data": {
      "text/html": [
       "<pre>--------------------------------------------------------</pre>"
      ],
      "text/plain": [
       "--------------------------------------------------------"
      ]
     },
     "metadata": {},
     "output_type": "display_data"
    },
    {
     "data": {
      "text/html": [
       "<pre>Number of examples          : 6520</pre>"
      ],
      "text/plain": [
       "Number of examples          : 6520"
      ]
     },
     "metadata": {},
     "output_type": "display_data"
    },
    {
     "data": {
      "text/html": [
       "<pre>Number of classes           : 2</pre>"
      ],
      "text/plain": [
       "Number of classes           : 2"
      ]
     },
     "metadata": {},
     "output_type": "display_data"
    },
    {
     "data": {
      "text/html": [
       "<pre>Number of feature columns   : 1</pre>"
      ],
      "text/plain": [
       "Number of feature columns   : 1"
      ]
     },
     "metadata": {},
     "output_type": "display_data"
    },
    {
     "data": {
      "text/html": [
       "<pre>Number of unpacked features : 28582</pre>"
      ],
      "text/plain": [
       "Number of unpacked features : 28582"
      ]
     },
     "metadata": {},
     "output_type": "display_data"
    },
    {
     "data": {
      "text/html": [
       "<pre>Number of coefficients    : 28583</pre>"
      ],
      "text/plain": [
       "Number of coefficients    : 28583"
      ]
     },
     "metadata": {},
     "output_type": "display_data"
    },
    {
     "data": {
      "text/html": [
       "<pre>Starting L-BFGS</pre>"
      ],
      "text/plain": [
       "Starting L-BFGS"
      ]
     },
     "metadata": {},
     "output_type": "display_data"
    },
    {
     "data": {
      "text/html": [
       "<pre>--------------------------------------------------------</pre>"
      ],
      "text/plain": [
       "--------------------------------------------------------"
      ]
     },
     "metadata": {},
     "output_type": "display_data"
    },
    {
     "data": {
      "text/html": [
       "<pre>+-----------+----------+-----------+--------------+-------------------+---------------------+</pre>"
      ],
      "text/plain": [
       "+-----------+----------+-----------+--------------+-------------------+---------------------+"
      ]
     },
     "metadata": {},
     "output_type": "display_data"
    },
    {
     "data": {
      "text/html": [
       "<pre>| Iteration | Passes   | Step size | Elapsed Time | Training-accuracy | Validation-accuracy |</pre>"
      ],
      "text/plain": [
       "| Iteration | Passes   | Step size | Elapsed Time | Training-accuracy | Validation-accuracy |"
      ]
     },
     "metadata": {},
     "output_type": "display_data"
    },
    {
     "data": {
      "text/html": [
       "<pre>+-----------+----------+-----------+--------------+-------------------+---------------------+</pre>"
      ],
      "text/plain": [
       "+-----------+----------+-----------+--------------+-------------------+---------------------+"
      ]
     },
     "metadata": {},
     "output_type": "display_data"
    },
    {
     "data": {
      "text/html": [
       "<pre>| 1         | 5        | 0.000038  | 0.292410     | 0.807515          | 0.790368            |</pre>"
      ],
      "text/plain": [
       "| 1         | 5        | 0.000038  | 0.292410     | 0.807515          | 0.790368            |"
      ]
     },
     "metadata": {},
     "output_type": "display_data"
    },
    {
     "data": {
      "text/html": [
       "<pre>| 2         | 8        | 5.000000  | 0.504093     | 0.923006          | 0.796034            |</pre>"
      ],
      "text/plain": [
       "| 2         | 8        | 5.000000  | 0.504093     | 0.923006          | 0.796034            |"
      ]
     },
     "metadata": {},
     "output_type": "display_data"
    },
    {
     "data": {
      "text/html": [
       "<pre>| 3         | 9        | 5.000000  | 0.614715     | 0.838804          | 0.790368            |</pre>"
      ],
      "text/plain": [
       "| 3         | 9        | 5.000000  | 0.614715     | 0.838804          | 0.790368            |"
      ]
     },
     "metadata": {},
     "output_type": "display_data"
    },
    {
     "data": {
      "text/html": [
       "<pre>| 4         | 11       | 1.000000  | 0.789772     | 0.948160          | 0.815864            |</pre>"
      ],
      "text/plain": [
       "| 4         | 11       | 1.000000  | 0.789772     | 0.948160          | 0.815864            |"
      ]
     },
     "metadata": {},
     "output_type": "display_data"
    },
    {
     "data": {
      "text/html": [
       "<pre>| 5         | 12       | 1.000000  | 0.909480     | 0.986503          | 0.889518            |</pre>"
      ],
      "text/plain": [
       "| 5         | 12       | 1.000000  | 0.909480     | 0.986503          | 0.889518            |"
      ]
     },
     "metadata": {},
     "output_type": "display_data"
    },
    {
     "data": {
      "text/html": [
       "<pre>| 6         | 13       | 1.000000  | 1.025183     | 0.991871          | 0.909348            |</pre>"
      ],
      "text/plain": [
       "| 6         | 13       | 1.000000  | 1.025183     | 0.991871          | 0.909348            |"
      ]
     },
     "metadata": {},
     "output_type": "display_data"
    },
    {
     "data": {
      "text/html": [
       "<pre>| 10        | 17       | 1.000000  | 1.415307     | 0.997393          | 0.900850            |</pre>"
      ],
      "text/plain": [
       "| 10        | 17       | 1.000000  | 1.415307     | 0.997393          | 0.900850            |"
      ]
     },
     "metadata": {},
     "output_type": "display_data"
    },
    {
     "data": {
      "text/html": [
       "<pre>| 11        | 18       | 1.000000  | 1.533334     | 0.997546          | 0.900850            |</pre>"
      ],
      "text/plain": [
       "| 11        | 18       | 1.000000  | 1.533334     | 0.997546          | 0.900850            |"
      ]
     },
     "metadata": {},
     "output_type": "display_data"
    },
    {
     "data": {
      "text/html": [
       "<pre>| 20        | 27       | 1.000000  | 2.368409     | 0.998313          | 0.898017            |</pre>"
      ],
      "text/plain": [
       "| 20        | 27       | 1.000000  | 2.368409     | 0.998313          | 0.898017            |"
      ]
     },
     "metadata": {},
     "output_type": "display_data"
    },
    {
     "data": {
      "text/html": [
       "<pre>| 30        | 39       | 1.000000  | 3.367512     | 0.998773          | 0.892351            |</pre>"
      ],
      "text/plain": [
       "| 30        | 39       | 1.000000  | 3.367512     | 0.998773          | 0.892351            |"
      ]
     },
     "metadata": {},
     "output_type": "display_data"
    },
    {
     "data": {
      "text/html": [
       "<pre>+-----------+----------+-----------+--------------+-------------------+---------------------+</pre>"
      ],
      "text/plain": [
       "+-----------+----------+-----------+--------------+-------------------+---------------------+"
      ]
     },
     "metadata": {},
     "output_type": "display_data"
    },
    {
     "data": {
      "text/html": [
       "<pre>TERMINATED: Iteration limit reached.</pre>"
      ],
      "text/plain": [
       "TERMINATED: Iteration limit reached."
      ]
     },
     "metadata": {},
     "output_type": "display_data"
    },
    {
     "data": {
      "text/html": [
       "<pre>This model may not be optimal. To improve it, consider increasing `max_iterations`.</pre>"
      ],
      "text/plain": [
       "This model may not be optimal. To improve it, consider increasing `max_iterations`."
      ]
     },
     "metadata": {},
     "output_type": "display_data"
    }
   ],
   "source": [
    "#svm_classifier\n",
    "#cucina\n",
    "features = ['tf_idf_food']\n",
    "model_cucina = graphlab.svm_classifier.create(train_data_cucina, target = 'sentiment', \n",
    "                                       features = features,penalty=1.0, feature_rescaling = True,lbfgs_memory_level=7, max_iterations = 30)\n",
    "\n",
    "#servizio\n",
    "features = ['tf_idf_service']\n",
    "model_servizio = graphlab.svm_classifier.create(train_data_servizio, target = 'sentiment', \n",
    "                                       features = features,penalty=1.0, feature_rescaling = True,lbfgs_memory_level=7, max_iterations = 30)\n",
    "\n",
    "#location\n",
    "features = ['tf_idf_location']\n",
    "model_location = graphlab.svm_classifier.create(train_data_location, target = 'sentiment', \n",
    "                                       features = features,penalty=1.0, feature_rescaling = True,lbfgs_memory_level=7, max_iterations = 15)\n",
    "\n",
    "#sentiment senza divisione del testo\n",
    "#Model creation\n",
    "\n",
    "features = ['tf_idf']\n",
    "model_sentiment = graphlab.svm_classifier.create(train_data_sentiment, target = 'sentiment', \n",
    "                                       features = features,penalty=1.0, feature_rescaling = True,lbfgs_memory_level=7, max_iterations = 30)\n"
   ]
  },
  {
   "cell_type": "code",
   "execution_count": 156,
   "metadata": {},
   "outputs": [],
   "source": [
    "def calculate_classification_test(test_data, model):\n",
    "    predictions_margin = model.predict(test_data, output_type = 'margin')\n",
    "    predictions_sign = model.predict(test_data)\n",
    "    test_data['prediction_margin'] = predictions_margin\n",
    "    test_data['prediction_sign'] = predictions_sign\n",
    "\n",
    "calculate_classification_test(test_data_cucina, model_cucina)\n",
    "calculate_classification_test(test_data_servizio, model_servizio)\n",
    "calculate_classification_test(test_data_location, model_location)\n",
    "calculate_classification_test(test_data_sentiment, model_sentiment)"
   ]
  },
  {
   "cell_type": "markdown",
   "metadata": {},
   "source": [
    "# Accuracy"
   ]
  },
  {
   "cell_type": "code",
   "execution_count": 157,
   "metadata": {},
   "outputs": [],
   "source": [
    "#accuratezza\n",
    "def accuracy(test_data):\n",
    "    num_correct = sum(test_data['sentiment'] == test_data['prediction_sign'])\n",
    "    nc = float(num_correct)\n",
    "    accuracy = nc / len(test_data)\n",
    "    return float(accuracy)\n",
    "\n",
    "accuracy = SFrame({'Food': [accuracy(test_data_cucina)], 'Service': [accuracy(test_data_servizio)], 'Location': [accuracy(test_data_location)], 'Sentiment': [accuracy(test_data_sentiment)]})"
   ]
  },
  {
   "cell_type": "code",
   "execution_count": 158,
   "metadata": {},
   "outputs": [
    {
     "data": {
      "text/html": [
       "<div style=\"max-height:1000px;max-width:1500px;overflow:auto;\"><table frame=\"box\" rules=\"cols\">\n",
       "    <tr>\n",
       "        <th style=\"padding-left: 1em; padding-right: 1em; text-align: center\">Food</th>\n",
       "        <th style=\"padding-left: 1em; padding-right: 1em; text-align: center\">Location</th>\n",
       "        <th style=\"padding-left: 1em; padding-right: 1em; text-align: center\">Sentiment</th>\n",
       "        <th style=\"padding-left: 1em; padding-right: 1em; text-align: center\">Service</th>\n",
       "    </tr>\n",
       "    <tr>\n",
       "        <td style=\"padding-left: 1em; padding-right: 1em; text-align: center; vertical-align: top\">0.92809587217</td>\n",
       "        <td style=\"padding-left: 1em; padding-right: 1em; text-align: center; vertical-align: top\">0.911214953271</td>\n",
       "        <td style=\"padding-left: 1em; padding-right: 1em; text-align: center; vertical-align: top\">0.874549819928</td>\n",
       "        <td style=\"padding-left: 1em; padding-right: 1em; text-align: center; vertical-align: top\">0.926486486486</td>\n",
       "    </tr>\n",
       "</table>\n",
       "[1 rows x 4 columns]<br/>\n",
       "</div>"
      ],
      "text/plain": [
       "Columns:\n",
       "\tFood\tfloat\n",
       "\tLocation\tfloat\n",
       "\tSentiment\tfloat\n",
       "\tService\tfloat\n",
       "\n",
       "Rows: 1\n",
       "\n",
       "Data:\n",
       "+---------------+----------------+----------------+----------------+\n",
       "|      Food     |    Location    |   Sentiment    |    Service     |\n",
       "+---------------+----------------+----------------+----------------+\n",
       "| 0.92809587217 | 0.911214953271 | 0.874549819928 | 0.926486486486 |\n",
       "+---------------+----------------+----------------+----------------+\n",
       "[1 rows x 4 columns]"
      ]
     },
     "execution_count": 158,
     "metadata": {},
     "output_type": "execute_result"
    }
   ],
   "source": [
    "accuracy"
   ]
  },
  {
   "cell_type": "code",
   "execution_count": 92,
   "metadata": {},
   "outputs": [
    {
     "name": "stdout",
     "output_type": "stream",
     "text": [
      "run\n"
     ]
    }
   ],
   "source": []
  },
  {
   "cell_type": "code",
   "execution_count": null,
   "metadata": {},
   "outputs": [],
   "source": []
  }
 ],
 "metadata": {
  "kernelspec": {
   "display_name": "Python 2",
   "language": "python",
   "name": "python2"
  },
  "language_info": {
   "codemirror_mode": {
    "name": "ipython",
    "version": 2
   },
   "file_extension": ".py",
   "mimetype": "text/x-python",
   "name": "python",
   "nbconvert_exporter": "python",
   "pygments_lexer": "ipython2",
   "version": "2.7.9"
  }
 },
 "nbformat": 4,
 "nbformat_minor": 1
}
