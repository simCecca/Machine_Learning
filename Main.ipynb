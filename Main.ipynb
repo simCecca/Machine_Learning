{
 "cells": [
  {
   "cell_type": "markdown",
   "metadata": {},
   "source": [
    "#  Aspect-Based & Opinion Mining"
   ]
  },
  {
   "cell_type": "markdown",
   "metadata": {},
   "source": [
    "Problem: identify aspects and their sentiment orientation (ratings) from a set of reviews.\n",
    "In this case the aspects are {food, service and location} and the reviews come from the Yelp dataset"
   ]
  },
  {
   "cell_type": "code",
   "execution_count": 10,
   "metadata": {
    "collapsed": false
   },
   "outputs": [],
   "source": [
    "import graphlab as graphlab\n",
    "from graphlab import SFrame\n",
    "from graphlab import SArray\n",
    "import string\n",
    "from matplotlib import pyplot as plt\n",
    "%matplotlib inline"
   ]
  },
  {
   "cell_type": "code",
   "execution_count": null,
   "metadata": {
    "collapsed": true
   },
   "outputs": [],
   "source": [
    "reviews = graphlab.SFrame.read_csv('yelp.csv')"
   ]
  },
  {
   "cell_type": "markdown",
   "metadata": {},
   "source": [
    "# Text Pre-Processing"
   ]
  },
  {
   "cell_type": "raw",
   "metadata": {},
   "source": [
    "A series of operations are part of the feature design phase to extract important information from the data.\n",
    "Among the operations there are:\n",
    "    A. Punctuation Removal\n",
    "    B. Removal of stopwords\n",
    "    C. Stemming\n",
    "    D. Design Features (es: word count o TF-IDF)"
   ]
  },
  {
   "cell_type": "markdown",
   "metadata": {},
   "source": [
    "# Punctuation Removal"
   ]
  },
  {
   "cell_type": "markdown",
   "metadata": {},
   "source": [
    "punctuation is removed, because for how the reviews are made it would not make any positive contribution"
   ]
  },
  {
   "cell_type": "code",
   "execution_count": 16,
   "metadata": {
    "collapsed": true
   },
   "outputs": [],
   "source": [
    "#Remove Punctuation\n",
    "def remove_punctuation(text):\n",
    "    return text.translate(None, string.punctuation)\n",
    "\n",
    "reviews['text'] = reviews['text'].apply(remove_punctuation)"
   ]
  },
  {
   "cell_type": "markdown",
   "metadata": {},
   "source": [
    "# Tokenization"
   ]
  },
  {
   "cell_type": "markdown",
   "metadata": {},
   "source": [
    "Tokenization is the process of dividing text into a set of meaningful pieces and these pieces are called tokens.\n",
    "Depending on the task at hand, we can define our own conditions to divide the input text into meaningful tokens.\n",
    "it will be very useful as we will need to evaluate the individual words of each review"
   ]
  },
  {
   "cell_type": "code",
   "execution_count": 17,
   "metadata": {
    "collapsed": true
   },
   "outputs": [],
   "source": [
    "#Apply Tokenization\n",
    "tokenized_reviews = graphlab.text_analytics.tokenize(reviews['text'])\n"
   ]
  },
  {
   "cell_type": "markdown",
   "metadata": {},
   "source": [
    "# Stemming"
   ]
  },
  {
   "cell_type": "code",
   "execution_count": 18,
   "metadata": {
    "collapsed": true
   },
   "outputs": [],
   "source": [
    "#from NTLK\n",
    "import nltk\n",
    "from nltk.stem.snowball import SnowballStemmer\n",
    "stemmer = SnowballStemmer(\"english\")"
   ]
  },
  {
   "cell_type": "code",
   "execution_count": 19,
   "metadata": {
    "collapsed": false
   },
   "outputs": [],
   "source": [
    "def word_stemmer(actual_word):\n",
    "    ritorno = ''\n",
    "    #try - except is needed because some characters are not recognized\n",
    "    try:\n",
    "        ritorno = stemmer.stem(actual_word)\n",
    "    except UnicodeDecodeError:\n",
    "        return actual_word\n",
    "    return ritorno\n",
    "    \n",
    "    \n",
    "\n",
    "tokenized_reviews = map(lambda s: map(lambda x: word_stemmer(x) ,s),tokenized_reviews)"
   ]
  },
  {
   "cell_type": "code",
   "execution_count": 20,
   "metadata": {
    "collapsed": true
   },
   "outputs": [],
   "source": [
    "reviews['text-tokenized'] = tokenized_reviews"
   ]
  },
  {
   "cell_type": "markdown",
   "metadata": {},
   "source": [
    "# Word Count"
   ]
  },
  {
   "cell_type": "markdown",
   "metadata": {},
   "source": [
    "the simplest way is to calculate the frequency of each word contained in each review"
   ]
  },
  {
   "cell_type": "code",
   "execution_count": 21,
   "metadata": {
    "collapsed": true
   },
   "outputs": [],
   "source": [
    "#Bag-of-Words dictionary, word -> word_count\n",
    "dict_reviews = graphlab.text_analytics.count_words(reviews['text-tokenized'])\n"
   ]
  },
  {
   "cell_type": "markdown",
   "metadata": {},
   "source": [
    "# Stop Words"
   ]
  },
  {
   "cell_type": "raw",
   "metadata": {},
   "source": [
    "Some words do not give informative contribution (articles, pronouns, etc.) so it is not appropriate to consider them as features\n",
    "• These words are collected in the stopwords list\n",
    "• There are predefined lists of stopwords in various languages,but obviously you can create your own custon list"
   ]
  },
  {
   "cell_type": "code",
   "execution_count": 22,
   "metadata": {
    "collapsed": true
   },
   "outputs": [],
   "source": [
    "#Remove stop-words\n",
    "dict_reviews = dict_reviews.dict_trim_by_keys(graphlab.text_analytics.stopwords(), exclude=True)"
   ]
  },
  {
   "cell_type": "markdown",
   "metadata": {},
   "source": [
    "# TF-IDF"
   ]
  },
  {
   "cell_type": "markdown",
   "metadata": {},
   "source": [
    "Not all words are the same weight within reviews => give more weight to those that are characteristic for the review"
   ]
  },
  {
   "cell_type": "code",
   "execution_count": 23,
   "metadata": {
    "collapsed": true
   },
   "outputs": [],
   "source": [
    "#tf-idf using all the words in the reviews\n",
    "tf_idf = graphlab.text_analytics.tf_idf(dict_reviews)\n",
    "reviews['tf_idf'] = tf_idf"
   ]
  },
  {
   "cell_type": "code",
   "execution_count": 24,
   "metadata": {
    "collapsed": false
   },
   "outputs": [
    {
     "data": {
      "text/html": [
       "<div style=\"max-height:1000px;max-width:1500px;overflow:auto;\"><table frame=\"box\" rules=\"cols\">\n",
       "    <tr>\n",
       "        <th style=\"padding-left: 1em; padding-right: 1em; text-align: center\">business_id</th>\n",
       "        <th style=\"padding-left: 1em; padding-right: 1em; text-align: center\">date</th>\n",
       "        <th style=\"padding-left: 1em; padding-right: 1em; text-align: center\">review_id</th>\n",
       "        <th style=\"padding-left: 1em; padding-right: 1em; text-align: center\">stars</th>\n",
       "        <th style=\"padding-left: 1em; padding-right: 1em; text-align: center\">text</th>\n",
       "        <th style=\"padding-left: 1em; padding-right: 1em; text-align: center\">type</th>\n",
       "    </tr>\n",
       "    <tr>\n",
       "        <td style=\"padding-left: 1em; padding-right: 1em; text-align: center; vertical-align: top\">9yKzy9PApeiPPOUJEtnvkg</td>\n",
       "        <td style=\"padding-left: 1em; padding-right: 1em; text-align: center; vertical-align: top\">2011-01-26</td>\n",
       "        <td style=\"padding-left: 1em; padding-right: 1em; text-align: center; vertical-align: top\">fWKvX83p0-ka4JS3dc6E5A</td>\n",
       "        <td style=\"padding-left: 1em; padding-right: 1em; text-align: center; vertical-align: top\">5</td>\n",
       "        <td style=\"padding-left: 1em; padding-right: 1em; text-align: center; vertical-align: top\">My wife took me here on<br>my birthday for break ...</td>\n",
       "        <td style=\"padding-left: 1em; padding-right: 1em; text-align: center; vertical-align: top\">review</td>\n",
       "    </tr>\n",
       "    <tr>\n",
       "        <td style=\"padding-left: 1em; padding-right: 1em; text-align: center; vertical-align: top\">ZRJwVLyzEJq1VAihDhYiow</td>\n",
       "        <td style=\"padding-left: 1em; padding-right: 1em; text-align: center; vertical-align: top\">2011-07-27</td>\n",
       "        <td style=\"padding-left: 1em; padding-right: 1em; text-align: center; vertical-align: top\">IjZ33sJrzXqU-0X6U8NwyA</td>\n",
       "        <td style=\"padding-left: 1em; padding-right: 1em; text-align: center; vertical-align: top\">5</td>\n",
       "        <td style=\"padding-left: 1em; padding-right: 1em; text-align: center; vertical-align: top\">I have no idea why some<br>people give bad reviews ...</td>\n",
       "        <td style=\"padding-left: 1em; padding-right: 1em; text-align: center; vertical-align: top\">review</td>\n",
       "    </tr>\n",
       "</table>\n",
       "<table frame=\"box\" rules=\"cols\">\n",
       "    <tr>\n",
       "        <th style=\"padding-left: 1em; padding-right: 1em; text-align: center\">user_id</th>\n",
       "        <th style=\"padding-left: 1em; padding-right: 1em; text-align: center\">cool</th>\n",
       "        <th style=\"padding-left: 1em; padding-right: 1em; text-align: center\">useful</th>\n",
       "        <th style=\"padding-left: 1em; padding-right: 1em; text-align: center\">funny</th>\n",
       "        <th style=\"padding-left: 1em; padding-right: 1em; text-align: center\">text-length</th>\n",
       "        <th style=\"padding-left: 1em; padding-right: 1em; text-align: center\">text-tokenized</th>\n",
       "        <th style=\"padding-left: 1em; padding-right: 1em; text-align: center\">tf_idf</th>\n",
       "    </tr>\n",
       "    <tr>\n",
       "        <td style=\"padding-left: 1em; padding-right: 1em; text-align: center; vertical-align: top\">rLtl8ZkDX5vH5nAx9C3q5Q</td>\n",
       "        <td style=\"padding-left: 1em; padding-right: 1em; text-align: center; vertical-align: top\">2</td>\n",
       "        <td style=\"padding-left: 1em; padding-right: 1em; text-align: center; vertical-align: top\">5</td>\n",
       "        <td style=\"padding-left: 1em; padding-right: 1em; text-align: center; vertical-align: top\">0</td>\n",
       "        <td style=\"padding-left: 1em; padding-right: 1em; text-align: center; vertical-align: top\">99193</td>\n",
       "        <td style=\"padding-left: 1em; padding-right: 1em; text-align: center; vertical-align: top\">[my, wife, took, me,<br>here, on, my, birthday, ...</td>\n",
       "        <td style=\"padding-left: 1em; padding-right: 1em; text-align: center; vertical-align: top\">{'ive':<br>3.768246152094924, ...</td>\n",
       "    </tr>\n",
       "    <tr>\n",
       "        <td style=\"padding-left: 1em; padding-right: 1em; text-align: center; vertical-align: top\">0a2KyEL0d3Yb1V6aivbIuQ</td>\n",
       "        <td style=\"padding-left: 1em; padding-right: 1em; text-align: center; vertical-align: top\">0</td>\n",
       "        <td style=\"padding-left: 1em; padding-right: 1em; text-align: center; vertical-align: top\">0</td>\n",
       "        <td style=\"padding-left: 1em; padding-right: 1em; text-align: center; vertical-align: top\">0</td>\n",
       "        <td style=\"padding-left: 1em; padding-right: 1em; text-align: center; vertical-align: top\">66881</td>\n",
       "        <td style=\"padding-left: 1em; padding-right: 1em; text-align: center; vertical-align: top\">[i, have, no, idea, whi,<br>some, peopl, give, bad, ...</td>\n",
       "        <td style=\"padding-left: 1em; padding-right: 1em; text-align: center; vertical-align: top\">{'pleas':<br>3.5196581537050364, ...</td>\n",
       "    </tr>\n",
       "</table>\n",
       "[2 rows x 13 columns]<br/>\n",
       "</div>"
      ],
      "text/plain": [
       "Columns:\n",
       "\tbusiness_id\tstr\n",
       "\tdate\tstr\n",
       "\treview_id\tstr\n",
       "\tstars\tint\n",
       "\ttext\tstr\n",
       "\ttype\tstr\n",
       "\tuser_id\tstr\n",
       "\tcool\tint\n",
       "\tuseful\tint\n",
       "\tfunny\tint\n",
       "\ttext-length\tint\n",
       "\ttext-tokenized\tlist\n",
       "\ttf_idf\tdict\n",
       "\n",
       "Rows: 2\n",
       "\n",
       "Data:\n",
       "+------------------------+------------+------------------------+-------+\n",
       "|      business_id       |    date    |       review_id        | stars |\n",
       "+------------------------+------------+------------------------+-------+\n",
       "| 9yKzy9PApeiPPOUJEtnvkg | 2011-01-26 | fWKvX83p0-ka4JS3dc6E5A |   5   |\n",
       "| ZRJwVLyzEJq1VAihDhYiow | 2011-07-27 | IjZ33sJrzXqU-0X6U8NwyA |   5   |\n",
       "+------------------------+------------+------------------------+-------+\n",
       "+-------------------------------+--------+------------------------+------+--------+\n",
       "|              text             |  type  |        user_id         | cool | useful |\n",
       "+-------------------------------+--------+------------------------+------+--------+\n",
       "| My wife took me here on my... | review | rLtl8ZkDX5vH5nAx9C3q5Q |  2   |   5    |\n",
       "| I have no idea why some pe... | review | 0a2KyEL0d3Yb1V6aivbIuQ |  0   |   0    |\n",
       "+-------------------------------+--------+------------------------+------+--------+\n",
       "+-------+-------------+-------------------------------+\n",
       "| funny | text-length |         text-tokenized        |\n",
       "+-------+-------------+-------------------------------+\n",
       "|   0   |    99193    | [my, wife, took, me, here,... |\n",
       "|   0   |    66881    | [i, have, no, idea, whi, s... |\n",
       "+-------+-------------+-------------------------------+\n",
       "+-------------------------------+\n",
       "|             tf_idf            |\n",
       "+-------------------------------+\n",
       "| {'ive': 3.768246152094924,... |\n",
       "| {'pleas': 3.51965815370503... |\n",
       "+-------------------------------+\n",
       "[2 rows x 13 columns]"
      ]
     },
     "execution_count": 24,
     "metadata": {},
     "output_type": "execute_result"
    }
   ],
   "source": [
    "#Show result\n",
    "reviews[:2]\n",
    "#dict_reviews"
   ]
  },
  {
   "cell_type": "markdown",
   "metadata": {},
   "source": [
    "# Filtering of Relevant Reviews"
   ]
  },
  {
   "cell_type": "markdown",
   "metadata": {},
   "source": [
    "All the reviews with 3 stars are eliminated as they tend to have a neutral sentiment"
   ]
  },
  {
   "cell_type": "code",
   "execution_count": 25,
   "metadata": {
    "collapsed": false
   },
   "outputs": [
    {
     "name": "stdout",
     "output_type": "stream",
     "text": [
      "number of reviews before filtering: 9963\n",
      "number of reviews after filtering: 8505\n"
     ]
    }
   ],
   "source": [
    "print(\"number of reviews before filtering: %d\" % (len(reviews)))\n",
    "reviews = reviews[reviews['stars'] != 3]\n",
    "print(\"number of reviews after filtering: %d\" % (len(reviews)))"
   ]
  },
  {
   "cell_type": "markdown",
   "metadata": {},
   "source": [
    "# Natural Language Toolkit"
   ]
  },
  {
   "cell_type": "markdown",
   "metadata": {},
   "source": [
    "NLTK is a platform for building python programs to work with human language data, it provides a suite of text processing libraries for classification, tokenization, stemming, tagging, parsing, and semantic reasoning, and more"
   ]
  },
  {
   "cell_type": "code",
   "execution_count": 26,
   "metadata": {
    "collapsed": true,
    "scrolled": true
   },
   "outputs": [],
   "source": [
    "from nltk.corpus import wordnet as wn\n",
    "from nltk.tag import pos_tag_sents"
   ]
  },
  {
   "cell_type": "markdown",
   "metadata": {},
   "source": [
    "# Categorize and Tagging Words"
   ]
  },
  {
   "cell_type": "markdown",
   "metadata": {},
   "source": [
    "in the NLP is very important the difference between nouns, verbs, adjectives, and adverbs, tagging words. so that we use NLTK to go to classify each word in one of the word classes"
   ]
  },
  {
   "cell_type": "code",
   "execution_count": 27,
   "metadata": {
    "collapsed": false,
    "scrolled": true
   },
   "outputs": [],
   "source": [
    "reviews['food'] = pos_tag_sents(reviews['text-tokenized'])"
   ]
  },
  {
   "cell_type": "markdown",
   "metadata": {},
   "source": [
    "# Terms Relevant to Each Aspect"
   ]
  },
  {
   "cell_type": "code",
   "execution_count": 28,
   "metadata": {
    "collapsed": true
   },
   "outputs": [],
   "source": [
    "important_for_food =\" menu drink breakfast plate egg spaghetti calzone pizza sauce lunch dinner cook food grub meal eat fresh veggies crisp chow victuals spread Kitchen comestibles subsistence portion provisions cheer bread\"\n",
    "important_for_service = \" service work prices ordered favor waiting use later tune-up ceremony amenity armed forces serve servicing help serving table service overhaul religious service military service \"\n",
    "important_for_place = \" location dog Park country show home  situation seat job status weather responsibility space shoes position spot property piazza lieu station \""
   ]
  },
  {
   "cell_type": "code",
   "execution_count": 138,
   "metadata": {
    "collapsed": true
   },
   "outputs": [],
   "source": [
    "#per verificare l'efficacia delle frasi importanti selezionate\n",
    "#map(lambda s: filter(lambda c: string.find(important_for_service, c) != -1, s), reviews['text-tokenized'])\n"
   ]
  },
  {
   "cell_type": "markdown",
   "metadata": {},
   "source": [
    "# Relevant Elements"
   ]
  },
  {
   "cell_type": "markdown",
   "metadata": {},
   "source": [
    "All elements referable to an adjective or an aspect are filtered"
   ]
  },
  {
   "cell_type": "code",
   "execution_count": 29,
   "metadata": {
    "collapsed": true,
    "scrolled": true
   },
   "outputs": [],
   "source": [
    "reviews_with_relevant_elements = list()\n",
    "def adjective_and_aspect_filter(u):\n",
    "    #first think to do is remove the stop-words because it isn't removed before (in tokenized element)\n",
    "    if(u[0].lower() in graphlab.text_analytics.stopwords()):\n",
    "        return ''\n",
    "    if(string.find(u[1], 'JJ') != -1 or (string.find(important_for_food, u[0]) != -1) or (string.find(important_for_service, u[0]) != -1) or (string.find(important_for_place, u[0]))):\n",
    "        return u\n",
    "    else: \n",
    "        return ''\n",
    "\n",
    "reviews_with_relevant_elements.append(map(lambda s: map(lambda u: adjective_and_aspect_filter(u) ,s), reviews['food']))"
   ]
  },
  {
   "cell_type": "code",
   "execution_count": 30,
   "metadata": {
    "collapsed": true
   },
   "outputs": [],
   "source": [
    "#normalizzazione di reviews_with_relevant_elements\n",
    "reviews_with_relevant_elements = reviews_with_relevant_elements[0]"
   ]
  },
  {
   "cell_type": "code",
   "execution_count": 31,
   "metadata": {
    "collapsed": true
   },
   "outputs": [],
   "source": [
    "#filtriamo tutti quelli != ''\n",
    "reviews_with_relevant_elements = map(lambda s: filter(lambda x: x != '', s), reviews_with_relevant_elements)"
   ]
  },
  {
   "cell_type": "markdown",
   "metadata": {},
   "source": [
    "# Adjectives and Keywords"
   ]
  },
  {
   "cell_type": "code",
   "execution_count": 32,
   "metadata": {
    "collapsed": true
   },
   "outputs": [],
   "source": [
    "#filtraggio dei valori con lunghezza < 3 poiche classificati erroneamente come appartenenti ad una delle 3 categorie di interesse\n",
    "#questo è dovuto al fatto che noi riusciamo a classificare in una categoria anche parole scritte male\n",
    "adjectives_and_keywords = map(lambda s: filter(lambda x: len(x[0]) > 2, s), reviews_with_relevant_elements)"
   ]
  },
  {
   "cell_type": "code",
   "execution_count": 33,
   "metadata": {
    "collapsed": true
   },
   "outputs": [],
   "source": [
    "#smistamento degli aggettivi per le rispettive categorie\n",
    "temporary_adjectives_for_the_cooking = ''\n",
    "temporary_adjectives_for_service = ''\n",
    "temporary_adjectives_for_location = ''\n",
    "\n",
    "adjectives_cooking = list()\n",
    "adjectives_service = list()\n",
    "adjectives_location = list()\n",
    "\n",
    "temporary_actual_adjectives = ''\n",
    "\n",
    "\n",
    "def filtra_per_cucina(actual_word):\n",
    "    global temporary_adjectives_for_the_cooking, temporary_actual_adjectives, temporary_adjectives_for_location, temporary_adjectives_for_service\n",
    "    if(string.find(actual_word[1],'JJ') == -1):\n",
    "        if(temporary_actual_adjectives != ''):\n",
    "            if(string.find(important_for_place, actual_word[0]) != -1):\n",
    "                temporary_adjectives_for_location = temporary_adjectives_for_location + temporary_actual_adjectives\n",
    "                temporary_actual_adjectives = ''\n",
    "            else:\n",
    "                if(string.find(important_for_service, actual_word[0]) != -1):\n",
    "                    temporary_adjectives_for_service = temporary_adjectives_for_service + temporary_actual_adjectives\n",
    "                    temporary_actual_adjectives = ''\n",
    "                else:\n",
    "                    if(string.find(important_for_food, actual_word[0]) != -1):\n",
    "                        temporary_adjectives_for_the_cooking = temporary_adjectives_for_the_cooking + temporary_actual_adjectives\n",
    "                        temporary_actual_adjectives = ''\n",
    "    else:\n",
    "        temporary_actual_adjectives = temporary_actual_adjectives + \" \" + actual_word[0]\n",
    "        \n",
    "def init(actual_review):\n",
    "    global temporary_adjectives_for_the_cooking, temporary_adjectives_for_location, temporary_adjectives_for_service, temporary_actual_adjectives\n",
    "    temporary_actual_adjectives = ''\n",
    "    map(lambda x: filtra_per_cucina(x), actual_review)\n",
    "    #nel caso in cui vi siano rimasti aggettivi inerenti ad una review non assegnati a nessuna categoria essi\n",
    "    #verranno associati alla cucina poichè molto probabilmente si riferisce alla cucina\n",
    "  \n",
    "    if(temporary_actual_adjectives != ''):\n",
    "        temporary_adjectives_for_the_cooking = temporary_adjectives_for_the_cooking + temporary_actual_adjectives\n",
    "    \n",
    "    adjectives_cooking.append(temporary_adjectives_for_the_cooking)\n",
    "    adjectives_service.append(temporary_adjectives_for_service)\n",
    "    adjectives_location.append(temporary_adjectives_for_location)\n",
    "    \n",
    "    temporary_adjectives_for_the_cooking = ''\n",
    "    temporary_adjectives_for_service = ''\n",
    "    temporary_adjectives_for_location = ''\n",
    "\n",
    "aggettivi_per = map(lambda s: init(s), adjectives_and_keywords)"
   ]
  },
  {
   "cell_type": "markdown",
   "metadata": {},
   "source": [
    "# Split Into Three Indipendent SFrame "
   ]
  },
  {
   "cell_type": "code",
   "execution_count": 34,
   "metadata": {
    "collapsed": true
   },
   "outputs": [],
   "source": [
    "#da list to list ad SArray\n",
    "reviews['food'] = SArray(adjectives_cooking)\n",
    "reviews['service'] = SArray(adjectives_service)\n",
    "reviews['location'] = SArray(adjectives_location)"
   ]
  },
  {
   "cell_type": "code",
   "execution_count": 35,
   "metadata": {
    "collapsed": true
   },
   "outputs": [],
   "source": [
    "#preparazione SFrame per ogni categoria poichè così all'atto del training si può andare a valutare per ogni \n",
    "#categoria le reviews di interesse poichè può essere che in una categoria vi siano valori nulli\n",
    "\n",
    "#SFrame per cucina\n",
    "reviews_food = graphlab.SFrame({'food': adjectives_cooking})\n",
    "\n",
    "#SFrame per servizio\n",
    "reviews_service = graphlab.SFrame({'service': adjectives_service})\n",
    "\n",
    "#SFrame per location\n",
    "reviews_location = graphlab.SFrame({'location': adjectives_location})"
   ]
  },
  {
   "cell_type": "code",
   "execution_count": 36,
   "metadata": {
    "collapsed": true
   },
   "outputs": [],
   "source": [
    "#elimino tutti quelli che hanno campo vuoto '' così che non mi vadano ad addestrare male il classificatore\n",
    "reviews_service = reviews_service[reviews_service['service'] != '']\n",
    "reviews_food = reviews_food[reviews_food['food'] != '']\n",
    "reviews_location = reviews_location[reviews_location['location'] != '']\n"
   ]
  },
  {
   "cell_type": "code",
   "execution_count": 37,
   "metadata": {
    "collapsed": true
   },
   "outputs": [],
   "source": [
    "#tokenizzazione\n",
    "tokenized_food = graphlab.text_analytics.tokenize(reviews_food['food'])\n",
    "tokenized_service = graphlab.text_analytics.tokenize(reviews_service['service'])\n",
    "tokenized_location = graphlab.text_analytics.tokenize(reviews_location['location'])\n",
    "\n",
    "reviews_food['food_tokenized'] = tokenized_food\n",
    "reviews_service['service_tokenized'] = tokenized_service\n",
    "reviews_location['location_tokenized'] = tokenized_location"
   ]
  },
  {
   "cell_type": "code",
   "execution_count": 38,
   "metadata": {
    "collapsed": true
   },
   "outputs": [],
   "source": [
    "#Bag-of-Words dictionary, word -> word_count\n",
    "dict_reviews_food = graphlab.text_analytics.count_words(reviews_food['food_tokenized'])\n",
    "dict_reviews_service = graphlab.text_analytics.count_words(reviews_service['service_tokenized'])\n",
    "dict_reviews_location = graphlab.text_analytics.count_words(reviews_location['location_tokenized'])\n"
   ]
  },
  {
   "cell_type": "code",
   "execution_count": 39,
   "metadata": {
    "collapsed": true
   },
   "outputs": [],
   "source": [
    "#tf-idf using all the words in the reviews\n",
    "tf_idf_food = graphlab.text_analytics.tf_idf(dict_reviews_food)\n",
    "tf_idf_service = graphlab.text_analytics.tf_idf(dict_reviews_service)\n",
    "tf_idf_location = graphlab.text_analytics.tf_idf(dict_reviews_location)"
   ]
  },
  {
   "cell_type": "code",
   "execution_count": 40,
   "metadata": {
    "collapsed": true
   },
   "outputs": [],
   "source": [
    "reviews_food['tf_idf_food'] = tf_idf_food\n",
    "reviews_service['tf_idf_service'] = tf_idf_service\n",
    "reviews_location['tf_idf_location'] = tf_idf_location"
   ]
  },
  {
   "cell_type": "markdown",
   "metadata": {},
   "source": [
    "# Sentiment Analisys for Every Aspect of Interest"
   ]
  },
  {
   "cell_type": "markdown",
   "metadata": {},
   "source": [
    "Important for calculating the sentiment columns"
   ]
  },
  {
   "cell_type": "code",
   "execution_count": 42,
   "metadata": {
    "collapsed": false
   },
   "outputs": [],
   "source": [
    "def predictions_mean(data, topic):\n",
    "    m = None\n",
    "    m = graphlab.sentiment_analysis.create(data, features=topic)\n",
    "    predictions = m.predict(data)\n",
    "    return predictions \n",
    "    \n",
    "\n",
    "sentiment_food = predictions_mean(reviews_food,'food')\n",
    "sentiment_service = predictions_mean(reviews_service,'service')\n",
    "sentiment_location = predictions_mean(reviews_location,'location')"
   ]
  },
  {
   "cell_type": "code",
   "execution_count": 43,
   "metadata": {
    "collapsed": true
   },
   "outputs": [],
   "source": [
    "reviews_food['sentiment'] = sentiment_food.apply(lambda rating: +1 if rating > 0.5 else -1 )                                      \n",
    "reviews_service['sentiment'] = sentiment_service.apply(lambda rating: +1 if rating > 0.5 else -1)\n",
    "reviews_location['sentiment'] = sentiment_location.apply(lambda rating: +1 if rating > 0.5 else -1)"
   ]
  },
  {
   "cell_type": "code",
   "execution_count": 44,
   "metadata": {
    "collapsed": true
   },
   "outputs": [],
   "source": [
    "#sentiment for the reviews without the analysis of the aspects\n",
    "#Introduce the sentiment -> +1 (good) for 4+ stars, -1 (bad) for 3- stars\n",
    "reviews['sentiment'] = reviews['stars'].apply(lambda rating: +1 if rating > 3 else -1)"
   ]
  },
  {
   "cell_type": "markdown",
   "metadata": {},
   "source": [
    "# Classificazioni"
   ]
  },
  {
   "cell_type": "code",
   "execution_count": 45,
   "metadata": {
    "collapsed": true
   },
   "outputs": [],
   "source": [
    "train_data_cucina, test_data_cucina = reviews_food.random_split(.8, seed = 0)\n",
    "train_data_servizio, test_data_servizio = reviews_service.random_split(.8, seed = 0)\n",
    "train_data_location, test_data_location = reviews_location.random_split(.8, seed = 0)\n",
    "train_data_sentiment, test_data_sentiment = reviews.random_split(.8, seed = 0)"
   ]
  },
  {
   "cell_type": "code",
   "execution_count": 46,
   "metadata": {
    "collapsed": false
   },
   "outputs": [
    {
     "name": "stdout",
     "output_type": "stream",
     "text": [
      "PROGRESS: Creating a validation set from 5 percent of training data. This may take a while.\n",
      "          You can set ``validation_set=None`` to disable validation tracking.\n",
      "\n"
     ]
    },
    {
     "data": {
      "text/html": [
       "<pre>WARNING: The number of feature dimensions in this problem is very large in comparison with the number of examples. Unless an appropriate regularization value is set, this model may not provide accurate predictions for a validation/test set.</pre>"
      ],
      "text/plain": [
       "WARNING: The number of feature dimensions in this problem is very large in comparison with the number of examples. Unless an appropriate regularization value is set, this model may not provide accurate predictions for a validation/test set."
      ]
     },
     "metadata": {},
     "output_type": "display_data"
    },
    {
     "data": {
      "text/html": [
       "<pre>SVM:</pre>"
      ],
      "text/plain": [
       "SVM:"
      ]
     },
     "metadata": {},
     "output_type": "display_data"
    },
    {
     "data": {
      "text/html": [
       "<pre>--------------------------------------------------------</pre>"
      ],
      "text/plain": [
       "--------------------------------------------------------"
      ]
     },
     "metadata": {},
     "output_type": "display_data"
    },
    {
     "data": {
      "text/html": [
       "<pre>Number of examples          : 5860</pre>"
      ],
      "text/plain": [
       "Number of examples          : 5860"
      ]
     },
     "metadata": {},
     "output_type": "display_data"
    },
    {
     "data": {
      "text/html": [
       "<pre>Number of classes           : 2</pre>"
      ],
      "text/plain": [
       "Number of classes           : 2"
      ]
     },
     "metadata": {},
     "output_type": "display_data"
    },
    {
     "data": {
      "text/html": [
       "<pre>Number of feature columns   : 1</pre>"
      ],
      "text/plain": [
       "Number of feature columns   : 1"
      ]
     },
     "metadata": {},
     "output_type": "display_data"
    },
    {
     "data": {
      "text/html": [
       "<pre>Number of unpacked features : 6104</pre>"
      ],
      "text/plain": [
       "Number of unpacked features : 6104"
      ]
     },
     "metadata": {},
     "output_type": "display_data"
    },
    {
     "data": {
      "text/html": [
       "<pre>Number of coefficients    : 6105</pre>"
      ],
      "text/plain": [
       "Number of coefficients    : 6105"
      ]
     },
     "metadata": {},
     "output_type": "display_data"
    },
    {
     "data": {
      "text/html": [
       "<pre>Starting L-BFGS</pre>"
      ],
      "text/plain": [
       "Starting L-BFGS"
      ]
     },
     "metadata": {},
     "output_type": "display_data"
    },
    {
     "data": {
      "text/html": [
       "<pre>--------------------------------------------------------</pre>"
      ],
      "text/plain": [
       "--------------------------------------------------------"
      ]
     },
     "metadata": {},
     "output_type": "display_data"
    },
    {
     "data": {
      "text/html": [
       "<pre>+-----------+----------+-----------+--------------+-------------------+---------------------+</pre>"
      ],
      "text/plain": [
       "+-----------+----------+-----------+--------------+-------------------+---------------------+"
      ]
     },
     "metadata": {},
     "output_type": "display_data"
    },
    {
     "data": {
      "text/html": [
       "<pre>| Iteration | Passes   | Step size | Elapsed Time | Training-accuracy | Validation-accuracy |</pre>"
      ],
      "text/plain": [
       "| Iteration | Passes   | Step size | Elapsed Time | Training-accuracy | Validation-accuracy |"
      ]
     },
     "metadata": {},
     "output_type": "display_data"
    },
    {
     "data": {
      "text/html": [
       "<pre>+-----------+----------+-----------+--------------+-------------------+---------------------+</pre>"
      ],
      "text/plain": [
       "+-----------+----------+-----------+--------------+-------------------+---------------------+"
      ]
     },
     "metadata": {},
     "output_type": "display_data"
    },
    {
     "data": {
      "text/html": [
       "<pre>| 1         | 3        | 0.000171  | 1.124054     | 0.892150          | 0.891641            |</pre>"
      ],
      "text/plain": [
       "| 1         | 3        | 0.000171  | 1.124054     | 0.892150          | 0.891641            |"
      ]
     },
     "metadata": {},
     "output_type": "display_data"
    },
    {
     "data": {
      "text/html": [
       "<pre>| 2         | 5        | 1.000000  | 1.224356     | 0.927986          | 0.891641            |</pre>"
      ],
      "text/plain": [
       "| 2         | 5        | 1.000000  | 1.224356     | 0.927986          | 0.891641            |"
      ]
     },
     "metadata": {},
     "output_type": "display_data"
    },
    {
     "data": {
      "text/html": [
       "<pre>| 3         | 6        | 1.000000  | 1.271249     | 0.984812          | 0.910217            |</pre>"
      ],
      "text/plain": [
       "| 3         | 6        | 1.000000  | 1.271249     | 0.984812          | 0.910217            |"
      ]
     },
     "metadata": {},
     "output_type": "display_data"
    },
    {
     "data": {
      "text/html": [
       "<pre>| 4         | 7        | 1.000000  | 1.304603     | 0.993345          | 0.919505            |</pre>"
      ],
      "text/plain": [
       "| 4         | 7        | 1.000000  | 1.304603     | 0.993345          | 0.919505            |"
      ]
     },
     "metadata": {},
     "output_type": "display_data"
    },
    {
     "data": {
      "text/html": [
       "<pre>| 5         | 8        | 1.000000  | 1.339882     | 0.995222          | 0.919505            |</pre>"
      ],
      "text/plain": [
       "| 5         | 8        | 1.000000  | 1.339882     | 0.995222          | 0.919505            |"
      ]
     },
     "metadata": {},
     "output_type": "display_data"
    },
    {
     "data": {
      "text/html": [
       "<pre>| 6         | 9        | 1.000000  | 1.371137     | 0.996075          | 0.919505            |</pre>"
      ],
      "text/plain": [
       "| 6         | 9        | 1.000000  | 1.371137     | 0.996075          | 0.919505            |"
      ]
     },
     "metadata": {},
     "output_type": "display_data"
    },
    {
     "data": {
      "text/html": [
       "<pre>| 11        | 14       | 1.000000  | 1.502696     | 0.998635          | 0.916409            |</pre>"
      ],
      "text/plain": [
       "| 11        | 14       | 1.000000  | 1.502696     | 0.998635          | 0.916409            |"
      ]
     },
     "metadata": {},
     "output_type": "display_data"
    },
    {
     "data": {
      "text/html": [
       "<pre>| 25        | 29       | 1.000000  | 1.825187     | 0.999829          | 0.922601            |</pre>"
      ],
      "text/plain": [
       "| 25        | 29       | 1.000000  | 1.825187     | 0.999829          | 0.922601            |"
      ]
     },
     "metadata": {},
     "output_type": "display_data"
    },
    {
     "data": {
      "text/html": [
       "<pre>+-----------+----------+-----------+--------------+-------------------+---------------------+</pre>"
      ],
      "text/plain": [
       "+-----------+----------+-----------+--------------+-------------------+---------------------+"
      ]
     },
     "metadata": {},
     "output_type": "display_data"
    },
    {
     "data": {
      "text/html": [
       "<pre>TERMINATED: Iteration limit reached.</pre>"
      ],
      "text/plain": [
       "TERMINATED: Iteration limit reached."
      ]
     },
     "metadata": {},
     "output_type": "display_data"
    },
    {
     "data": {
      "text/html": [
       "<pre>This model may not be optimal. To improve it, consider increasing `max_iterations`.</pre>"
      ],
      "text/plain": [
       "This model may not be optimal. To improve it, consider increasing `max_iterations`."
      ]
     },
     "metadata": {},
     "output_type": "display_data"
    },
    {
     "name": "stdout",
     "output_type": "stream",
     "text": [
      "PROGRESS: Creating a validation set from 5 percent of training data. This may take a while.\n",
      "          You can set ``validation_set=None`` to disable validation tracking.\n",
      "\n"
     ]
    },
    {
     "data": {
      "text/html": [
       "<pre>WARNING: The number of feature dimensions in this problem is very large in comparison with the number of examples. Unless an appropriate regularization value is set, this model may not provide accurate predictions for a validation/test set.</pre>"
      ],
      "text/plain": [
       "WARNING: The number of feature dimensions in this problem is very large in comparison with the number of examples. Unless an appropriate regularization value is set, this model may not provide accurate predictions for a validation/test set."
      ]
     },
     "metadata": {},
     "output_type": "display_data"
    },
    {
     "data": {
      "text/html": [
       "<pre>SVM:</pre>"
      ],
      "text/plain": [
       "SVM:"
      ]
     },
     "metadata": {},
     "output_type": "display_data"
    },
    {
     "data": {
      "text/html": [
       "<pre>--------------------------------------------------------</pre>"
      ],
      "text/plain": [
       "--------------------------------------------------------"
      ]
     },
     "metadata": {},
     "output_type": "display_data"
    },
    {
     "data": {
      "text/html": [
       "<pre>Number of examples          : 3584</pre>"
      ],
      "text/plain": [
       "Number of examples          : 3584"
      ]
     },
     "metadata": {},
     "output_type": "display_data"
    },
    {
     "data": {
      "text/html": [
       "<pre>Number of classes           : 2</pre>"
      ],
      "text/plain": [
       "Number of classes           : 2"
      ]
     },
     "metadata": {},
     "output_type": "display_data"
    },
    {
     "data": {
      "text/html": [
       "<pre>Number of feature columns   : 1</pre>"
      ],
      "text/plain": [
       "Number of feature columns   : 1"
      ]
     },
     "metadata": {},
     "output_type": "display_data"
    },
    {
     "data": {
      "text/html": [
       "<pre>Number of unpacked features : 3897</pre>"
      ],
      "text/plain": [
       "Number of unpacked features : 3897"
      ]
     },
     "metadata": {},
     "output_type": "display_data"
    },
    {
     "data": {
      "text/html": [
       "<pre>Number of coefficients    : 3898</pre>"
      ],
      "text/plain": [
       "Number of coefficients    : 3898"
      ]
     },
     "metadata": {},
     "output_type": "display_data"
    },
    {
     "data": {
      "text/html": [
       "<pre>Starting L-BFGS</pre>"
      ],
      "text/plain": [
       "Starting L-BFGS"
      ]
     },
     "metadata": {},
     "output_type": "display_data"
    },
    {
     "data": {
      "text/html": [
       "<pre>--------------------------------------------------------</pre>"
      ],
      "text/plain": [
       "--------------------------------------------------------"
      ]
     },
     "metadata": {},
     "output_type": "display_data"
    },
    {
     "data": {
      "text/html": [
       "<pre>+-----------+----------+-----------+--------------+-------------------+---------------------+</pre>"
      ],
      "text/plain": [
       "+-----------+----------+-----------+--------------+-------------------+---------------------+"
      ]
     },
     "metadata": {},
     "output_type": "display_data"
    },
    {
     "data": {
      "text/html": [
       "<pre>| Iteration | Passes   | Step size | Elapsed Time | Training-accuracy | Validation-accuracy |</pre>"
      ],
      "text/plain": [
       "| Iteration | Passes   | Step size | Elapsed Time | Training-accuracy | Validation-accuracy |"
      ]
     },
     "metadata": {},
     "output_type": "display_data"
    },
    {
     "data": {
      "text/html": [
       "<pre>+-----------+----------+-----------+--------------+-------------------+---------------------+</pre>"
      ],
      "text/plain": [
       "+-----------+----------+-----------+--------------+-------------------+---------------------+"
      ]
     },
     "metadata": {},
     "output_type": "display_data"
    },
    {
     "data": {
      "text/html": [
       "<pre>| 1         | 3        | 0.000279  | 0.038235     | 0.894810          | 0.891089            |</pre>"
      ],
      "text/plain": [
       "| 1         | 3        | 0.000279  | 0.038235     | 0.894810          | 0.891089            |"
      ]
     },
     "metadata": {},
     "output_type": "display_data"
    },
    {
     "data": {
      "text/html": [
       "<pre>| 2         | 5        | 1.000000  | 0.085130     | 0.951451          | 0.891089            |</pre>"
      ],
      "text/plain": [
       "| 2         | 5        | 1.000000  | 0.085130     | 0.951451          | 0.891089            |"
      ]
     },
     "metadata": {},
     "output_type": "display_data"
    },
    {
     "data": {
      "text/html": [
       "<pre>| 3         | 6        | 1.000000  | 0.133520     | 0.986049          | 0.896040            |</pre>"
      ],
      "text/plain": [
       "| 3         | 6        | 1.000000  | 0.133520     | 0.986049          | 0.896040            |"
      ]
     },
     "metadata": {},
     "output_type": "display_data"
    },
    {
     "data": {
      "text/html": [
       "<pre>| 4         | 7        | 1.000000  | 0.154684     | 0.993304          | 0.905941            |</pre>"
      ],
      "text/plain": [
       "| 4         | 7        | 1.000000  | 0.154684     | 0.993304          | 0.905941            |"
      ]
     },
     "metadata": {},
     "output_type": "display_data"
    },
    {
     "data": {
      "text/html": [
       "<pre>| 5         | 8        | 1.000000  | 0.201560     | 0.997210          | 0.910891            |</pre>"
      ],
      "text/plain": [
       "| 5         | 8        | 1.000000  | 0.201560     | 0.997210          | 0.910891            |"
      ]
     },
     "metadata": {},
     "output_type": "display_data"
    },
    {
     "data": {
      "text/html": [
       "<pre>| 6         | 9        | 1.000000  | 0.217187     | 0.997768          | 0.910891            |</pre>"
      ],
      "text/plain": [
       "| 6         | 9        | 1.000000  | 0.217187     | 0.997768          | 0.910891            |"
      ]
     },
     "metadata": {},
     "output_type": "display_data"
    },
    {
     "data": {
      "text/html": [
       "<pre>| 11        | 14       | 1.000000  | 0.317008     | 0.998605          | 0.910891            |</pre>"
      ],
      "text/plain": [
       "| 11        | 14       | 1.000000  | 0.317008     | 0.998605          | 0.910891            |"
      ]
     },
     "metadata": {},
     "output_type": "display_data"
    },
    {
     "data": {
      "text/html": [
       "<pre>+-----------+----------+-----------+--------------+-------------------+---------------------+</pre>"
      ],
      "text/plain": [
       "+-----------+----------+-----------+--------------+-------------------+---------------------+"
      ]
     },
     "metadata": {},
     "output_type": "display_data"
    },
    {
     "data": {
      "text/html": [
       "<pre>TERMINATED: Iteration limit reached.</pre>"
      ],
      "text/plain": [
       "TERMINATED: Iteration limit reached."
      ]
     },
     "metadata": {},
     "output_type": "display_data"
    },
    {
     "data": {
      "text/html": [
       "<pre>This model may not be optimal. To improve it, consider increasing `max_iterations`.</pre>"
      ],
      "text/plain": [
       "This model may not be optimal. To improve it, consider increasing `max_iterations`."
      ]
     },
     "metadata": {},
     "output_type": "display_data"
    },
    {
     "name": "stdout",
     "output_type": "stream",
     "text": [
      "PROGRESS: Creating a validation set from 5 percent of training data. This may take a while.\n",
      "          You can set ``validation_set=None`` to disable validation tracking.\n",
      "\n"
     ]
    },
    {
     "data": {
      "text/html": [
       "<pre>WARNING: The number of feature dimensions in this problem is very large in comparison with the number of examples. Unless an appropriate regularization value is set, this model may not provide accurate predictions for a validation/test set.</pre>"
      ],
      "text/plain": [
       "WARNING: The number of feature dimensions in this problem is very large in comparison with the number of examples. Unless an appropriate regularization value is set, this model may not provide accurate predictions for a validation/test set."
      ]
     },
     "metadata": {},
     "output_type": "display_data"
    },
    {
     "data": {
      "text/html": [
       "<pre>SVM:</pre>"
      ],
      "text/plain": [
       "SVM:"
      ]
     },
     "metadata": {},
     "output_type": "display_data"
    },
    {
     "data": {
      "text/html": [
       "<pre>--------------------------------------------------------</pre>"
      ],
      "text/plain": [
       "--------------------------------------------------------"
      ]
     },
     "metadata": {},
     "output_type": "display_data"
    },
    {
     "data": {
      "text/html": [
       "<pre>Number of examples          : 2463</pre>"
      ],
      "text/plain": [
       "Number of examples          : 2463"
      ]
     },
     "metadata": {},
     "output_type": "display_data"
    },
    {
     "data": {
      "text/html": [
       "<pre>Number of classes           : 2</pre>"
      ],
      "text/plain": [
       "Number of classes           : 2"
      ]
     },
     "metadata": {},
     "output_type": "display_data"
    },
    {
     "data": {
      "text/html": [
       "<pre>Number of feature columns   : 1</pre>"
      ],
      "text/plain": [
       "Number of feature columns   : 1"
      ]
     },
     "metadata": {},
     "output_type": "display_data"
    },
    {
     "data": {
      "text/html": [
       "<pre>Number of unpacked features : 2883</pre>"
      ],
      "text/plain": [
       "Number of unpacked features : 2883"
      ]
     },
     "metadata": {},
     "output_type": "display_data"
    },
    {
     "data": {
      "text/html": [
       "<pre>Number of coefficients    : 2884</pre>"
      ],
      "text/plain": [
       "Number of coefficients    : 2884"
      ]
     },
     "metadata": {},
     "output_type": "display_data"
    },
    {
     "data": {
      "text/html": [
       "<pre>Starting L-BFGS</pre>"
      ],
      "text/plain": [
       "Starting L-BFGS"
      ]
     },
     "metadata": {},
     "output_type": "display_data"
    },
    {
     "data": {
      "text/html": [
       "<pre>--------------------------------------------------------</pre>"
      ],
      "text/plain": [
       "--------------------------------------------------------"
      ]
     },
     "metadata": {},
     "output_type": "display_data"
    },
    {
     "data": {
      "text/html": [
       "<pre>+-----------+----------+-----------+--------------+-------------------+---------------------+</pre>"
      ],
      "text/plain": [
       "+-----------+----------+-----------+--------------+-------------------+---------------------+"
      ]
     },
     "metadata": {},
     "output_type": "display_data"
    },
    {
     "data": {
      "text/html": [
       "<pre>| Iteration | Passes   | Step size | Elapsed Time | Training-accuracy | Validation-accuracy |</pre>"
      ],
      "text/plain": [
       "| Iteration | Passes   | Step size | Elapsed Time | Training-accuracy | Validation-accuracy |"
      ]
     },
     "metadata": {},
     "output_type": "display_data"
    },
    {
     "data": {
      "text/html": [
       "<pre>+-----------+----------+-----------+--------------+-------------------+---------------------+</pre>"
      ],
      "text/plain": [
       "+-----------+----------+-----------+--------------+-------------------+---------------------+"
      ]
     },
     "metadata": {},
     "output_type": "display_data"
    },
    {
     "data": {
      "text/html": [
       "<pre>| 1         | 3        | 0.000406  | 0.031249     | 0.912708          | 0.873239            |</pre>"
      ],
      "text/plain": [
       "| 1         | 3        | 0.000406  | 0.031249     | 0.912708          | 0.873239            |"
      ]
     },
     "metadata": {},
     "output_type": "display_data"
    },
    {
     "data": {
      "text/html": [
       "<pre>| 2         | 5        | 1.000000  | 0.052914     | 0.959399          | 0.852113            |</pre>"
      ],
      "text/plain": [
       "| 2         | 5        | 1.000000  | 0.052914     | 0.959399          | 0.852113            |"
      ]
     },
     "metadata": {},
     "output_type": "display_data"
    },
    {
     "data": {
      "text/html": [
       "<pre>| 3         | 6        | 1.000000  | 0.084332     | 0.990662          | 0.873239            |</pre>"
      ],
      "text/plain": [
       "| 3         | 6        | 1.000000  | 0.084332     | 0.990662          | 0.873239            |"
      ]
     },
     "metadata": {},
     "output_type": "display_data"
    },
    {
     "data": {
      "text/html": [
       "<pre>| 4         | 7        | 1.000000  | 0.099958     | 0.994316          | 0.873239            |</pre>"
      ],
      "text/plain": [
       "| 4         | 7        | 1.000000  | 0.099958     | 0.994316          | 0.873239            |"
      ]
     },
     "metadata": {},
     "output_type": "display_data"
    },
    {
     "data": {
      "text/html": [
       "<pre>| 5         | 8        | 1.000000  | 0.131211     | 0.996346          | 0.894366            |</pre>"
      ],
      "text/plain": [
       "| 5         | 8        | 1.000000  | 0.131211     | 0.996346          | 0.894366            |"
      ]
     },
     "metadata": {},
     "output_type": "display_data"
    },
    {
     "data": {
      "text/html": [
       "<pre>| 6         | 9        | 1.000000  | 0.150354     | 0.997564          | 0.894366            |</pre>"
      ],
      "text/plain": [
       "| 6         | 9        | 1.000000  | 0.150354     | 0.997564          | 0.894366            |"
      ]
     },
     "metadata": {},
     "output_type": "display_data"
    },
    {
     "data": {
      "text/html": [
       "<pre>| 11        | 14       | 1.000000  | 0.184618     | 0.998782          | 0.887324            |</pre>"
      ],
      "text/plain": [
       "| 11        | 14       | 1.000000  | 0.184618     | 0.998782          | 0.887324            |"
      ]
     },
     "metadata": {},
     "output_type": "display_data"
    },
    {
     "data": {
      "text/html": [
       "<pre>+-----------+----------+-----------+--------------+-------------------+---------------------+</pre>"
      ],
      "text/plain": [
       "+-----------+----------+-----------+--------------+-------------------+---------------------+"
      ]
     },
     "metadata": {},
     "output_type": "display_data"
    },
    {
     "data": {
      "text/html": [
       "<pre>TERMINATED: Iteration limit reached.</pre>"
      ],
      "text/plain": [
       "TERMINATED: Iteration limit reached."
      ]
     },
     "metadata": {},
     "output_type": "display_data"
    },
    {
     "name": "stdout",
     "output_type": "stream",
     "text": [
      "PROGRESS: Creating a validation set from 5 percent of training data. This may take a while.\n",
      "          You can set ``validation_set=None`` to disable validation tracking.\n",
      "\n"
     ]
    },
    {
     "data": {
      "text/html": [
       "<pre>This model may not be optimal. To improve it, consider increasing `max_iterations`.</pre>"
      ],
      "text/plain": [
       "This model may not be optimal. To improve it, consider increasing `max_iterations`."
      ]
     },
     "metadata": {},
     "output_type": "display_data"
    },
    {
     "data": {
      "text/html": [
       "<pre>WARNING: The number of feature dimensions in this problem is very large in comparison with the number of examples. Unless an appropriate regularization value is set, this model may not provide accurate predictions for a validation/test set.</pre>"
      ],
      "text/plain": [
       "WARNING: The number of feature dimensions in this problem is very large in comparison with the number of examples. Unless an appropriate regularization value is set, this model may not provide accurate predictions for a validation/test set."
      ]
     },
     "metadata": {},
     "output_type": "display_data"
    },
    {
     "data": {
      "text/html": [
       "<pre>SVM:</pre>"
      ],
      "text/plain": [
       "SVM:"
      ]
     },
     "metadata": {},
     "output_type": "display_data"
    },
    {
     "data": {
      "text/html": [
       "<pre>--------------------------------------------------------</pre>"
      ],
      "text/plain": [
       "--------------------------------------------------------"
      ]
     },
     "metadata": {},
     "output_type": "display_data"
    },
    {
     "data": {
      "text/html": [
       "<pre>Number of examples          : 6530</pre>"
      ],
      "text/plain": [
       "Number of examples          : 6530"
      ]
     },
     "metadata": {},
     "output_type": "display_data"
    },
    {
     "data": {
      "text/html": [
       "<pre>Number of classes           : 2</pre>"
      ],
      "text/plain": [
       "Number of classes           : 2"
      ]
     },
     "metadata": {},
     "output_type": "display_data"
    },
    {
     "data": {
      "text/html": [
       "<pre>Number of feature columns   : 1</pre>"
      ],
      "text/plain": [
       "Number of feature columns   : 1"
      ]
     },
     "metadata": {},
     "output_type": "display_data"
    },
    {
     "data": {
      "text/html": [
       "<pre>Number of unpacked features : 28641</pre>"
      ],
      "text/plain": [
       "Number of unpacked features : 28641"
      ]
     },
     "metadata": {},
     "output_type": "display_data"
    },
    {
     "data": {
      "text/html": [
       "<pre>Number of coefficients    : 28642</pre>"
      ],
      "text/plain": [
       "Number of coefficients    : 28642"
      ]
     },
     "metadata": {},
     "output_type": "display_data"
    },
    {
     "data": {
      "text/html": [
       "<pre>Starting L-BFGS</pre>"
      ],
      "text/plain": [
       "Starting L-BFGS"
      ]
     },
     "metadata": {},
     "output_type": "display_data"
    },
    {
     "data": {
      "text/html": [
       "<pre>--------------------------------------------------------</pre>"
      ],
      "text/plain": [
       "--------------------------------------------------------"
      ]
     },
     "metadata": {},
     "output_type": "display_data"
    },
    {
     "data": {
      "text/html": [
       "<pre>+-----------+----------+-----------+--------------+-------------------+---------------------+</pre>"
      ],
      "text/plain": [
       "+-----------+----------+-----------+--------------+-------------------+---------------------+"
      ]
     },
     "metadata": {},
     "output_type": "display_data"
    },
    {
     "data": {
      "text/html": [
       "<pre>| Iteration | Passes   | Step size | Elapsed Time | Training-accuracy | Validation-accuracy |</pre>"
      ],
      "text/plain": [
       "| Iteration | Passes   | Step size | Elapsed Time | Training-accuracy | Validation-accuracy |"
      ]
     },
     "metadata": {},
     "output_type": "display_data"
    },
    {
     "data": {
      "text/html": [
       "<pre>+-----------+----------+-----------+--------------+-------------------+---------------------+</pre>"
      ],
      "text/plain": [
       "+-----------+----------+-----------+--------------+-------------------+---------------------+"
      ]
     },
     "metadata": {},
     "output_type": "display_data"
    },
    {
     "data": {
      "text/html": [
       "<pre>| 1         | 5        | 0.000038  | 0.084160     | 0.803828          | 0.798077            |</pre>"
      ],
      "text/plain": [
       "| 1         | 5        | 0.000038  | 0.084160     | 0.803828          | 0.798077            |"
      ]
     },
     "metadata": {},
     "output_type": "display_data"
    },
    {
     "data": {
      "text/html": [
       "<pre>| 2         | 8        | 5.000000  | 0.131190     | 0.908729          | 0.785256            |</pre>"
      ],
      "text/plain": [
       "| 2         | 8        | 5.000000  | 0.131190     | 0.908729          | 0.785256            |"
      ]
     },
     "metadata": {},
     "output_type": "display_data"
    },
    {
     "data": {
      "text/html": [
       "<pre>| 3         | 9        | 5.000000  | 0.162443     | 0.827259          | 0.801282            |</pre>"
      ],
      "text/plain": [
       "| 3         | 9        | 5.000000  | 0.162443     | 0.827259          | 0.801282            |"
      ]
     },
     "metadata": {},
     "output_type": "display_data"
    },
    {
     "data": {
      "text/html": [
       "<pre>| 4         | 11       | 1.000000  | 0.200225     | 0.946554          | 0.830128            |</pre>"
      ],
      "text/plain": [
       "| 4         | 11       | 1.000000  | 0.200225     | 0.946554          | 0.830128            |"
      ]
     },
     "metadata": {},
     "output_type": "display_data"
    },
    {
     "data": {
      "text/html": [
       "<pre>| 5         | 12       | 1.000000  | 0.231477     | 0.987749          | 0.878205            |</pre>"
      ],
      "text/plain": [
       "| 5         | 12       | 1.000000  | 0.231477     | 0.987749          | 0.878205            |"
      ]
     },
     "metadata": {},
     "output_type": "display_data"
    },
    {
     "data": {
      "text/html": [
       "<pre>| 6         | 13       | 1.000000  | 0.247101     | 0.992343          | 0.891026            |</pre>"
      ],
      "text/plain": [
       "| 6         | 13       | 1.000000  | 0.247101     | 0.992343          | 0.891026            |"
      ]
     },
     "metadata": {},
     "output_type": "display_data"
    },
    {
     "data": {
      "text/html": [
       "<pre>| 11        | 18       | 1.000000  | 0.385165     | 0.998009          | 0.894231            |</pre>"
      ],
      "text/plain": [
       "| 11        | 18       | 1.000000  | 0.385165     | 0.998009          | 0.894231            |"
      ]
     },
     "metadata": {},
     "output_type": "display_data"
    },
    {
     "data": {
      "text/html": [
       "<pre>+-----------+----------+-----------+--------------+-------------------+---------------------+</pre>"
      ],
      "text/plain": [
       "+-----------+----------+-----------+--------------+-------------------+---------------------+"
      ]
     },
     "metadata": {},
     "output_type": "display_data"
    },
    {
     "data": {
      "text/html": [
       "<pre>TERMINATED: Iteration limit reached.</pre>"
      ],
      "text/plain": [
       "TERMINATED: Iteration limit reached."
      ]
     },
     "metadata": {},
     "output_type": "display_data"
    },
    {
     "data": {
      "text/html": [
       "<pre>This model may not be optimal. To improve it, consider increasing `max_iterations`.</pre>"
      ],
      "text/plain": [
       "This model may not be optimal. To improve it, consider increasing `max_iterations`."
      ]
     },
     "metadata": {},
     "output_type": "display_data"
    }
   ],
   "source": [
    "#svm_classifier\n",
    "#cucina\n",
    "features = ['tf_idf_food']\n",
    "model_cucina = graphlab.svm_classifier.create(train_data_cucina, target = 'sentiment', \n",
    "                                       features = features,penalty=1.0, feature_rescaling = True,lbfgs_memory_level=7, max_iterations = 30)\n",
    "\n",
    "#servizio\n",
    "features = ['tf_idf_service']\n",
    "model_servizio = graphlab.svm_classifier.create(train_data_servizio, target = 'sentiment', \n",
    "                                       features = features,penalty=1.0, feature_rescaling = True,lbfgs_memory_level=7, max_iterations = 30)\n",
    "\n",
    "#location\n",
    "features = ['tf_idf_location']\n",
    "model_location = graphlab.svm_classifier.create(train_data_location, target = 'sentiment', \n",
    "                                       features = features,penalty=1.0, feature_rescaling = True,lbfgs_memory_level=7, max_iterations = 15)\n",
    "\n",
    "#sentiment senza divisione del testo\n",
    "#Model creation\n",
    "\n",
    "features = ['tf_idf']\n",
    "model_sentiment = graphlab.svm_classifier.create(train_data_sentiment, target = 'sentiment', \n",
    "                                       features = features,penalty=1.0, feature_rescaling = True,lbfgs_memory_level=7, max_iterations = 30)\n"
   ]
  },
  {
   "cell_type": "code",
   "execution_count": 47,
   "metadata": {
    "collapsed": true
   },
   "outputs": [],
   "source": [
    "def calculate_classification_test(test_data, model):\n",
    "    predictions_margin = model.predict(test_data, output_type = 'margin')\n",
    "    predictions_sign = model.predict(test_data)\n",
    "    test_data['prediction_margin'] = predictions_margin\n",
    "    test_data['prediction_sign'] = predictions_sign\n",
    "\n",
    "calculate_classification_test(test_data_cucina, model_cucina)\n",
    "calculate_classification_test(test_data_servizio, model_servizio)\n",
    "calculate_classification_test(test_data_location, model_location)\n",
    "calculate_classification_test(test_data_sentiment, model_sentiment)"
   ]
  },
  {
   "cell_type": "markdown",
   "metadata": {},
   "source": [
    "# Accuracy"
   ]
  },
  {
   "cell_type": "code",
   "execution_count": 48,
   "metadata": {
    "collapsed": true
   },
   "outputs": [],
   "source": [
    "#accuratezza\n",
    "def accuracy(test_data):\n",
    "    num_correct = sum(test_data['sentiment'] == test_data['prediction_sign'])\n",
    "    nc = float(num_correct)\n",
    "    accuracy = nc / len(test_data)\n",
    "    return float(accuracy)\n",
    "\n",
    "accuracy = SFrame({'Food': [accuracy(test_data_cucina)], 'Service': [accuracy(test_data_servizio)], 'Location': [accuracy(test_data_location)], 'Sentiment': [accuracy(test_data_sentiment)]})"
   ]
  },
  {
   "cell_type": "code",
   "execution_count": 49,
   "metadata": {
    "collapsed": false
   },
   "outputs": [
    {
     "data": {
      "text/html": [
       "<div style=\"max-height:1000px;max-width:1500px;overflow:auto;\"><table frame=\"box\" rules=\"cols\">\n",
       "    <tr>\n",
       "        <th style=\"padding-left: 1em; padding-right: 1em; text-align: center\">Food</th>\n",
       "        <th style=\"padding-left: 1em; padding-right: 1em; text-align: center\">Location</th>\n",
       "        <th style=\"padding-left: 1em; padding-right: 1em; text-align: center\">Sentiment</th>\n",
       "        <th style=\"padding-left: 1em; padding-right: 1em; text-align: center\">Service</th>\n",
       "    </tr>\n",
       "    <tr>\n",
       "        <td style=\"padding-left: 1em; padding-right: 1em; text-align: center; vertical-align: top\">0.918340026774</td>\n",
       "        <td style=\"padding-left: 1em; padding-right: 1em; text-align: center; vertical-align: top\">0.9234375</td>\n",
       "        <td style=\"padding-left: 1em; padding-right: 1em; text-align: center; vertical-align: top\">0.871316897174</td>\n",
       "        <td style=\"padding-left: 1em; padding-right: 1em; text-align: center; vertical-align: top\">0.92972972973</td>\n",
       "    </tr>\n",
       "</table>\n",
       "[1 rows x 4 columns]<br/>\n",
       "</div>"
      ],
      "text/plain": [
       "Columns:\n",
       "\tFood\tfloat\n",
       "\tLocation\tfloat\n",
       "\tSentiment\tfloat\n",
       "\tService\tfloat\n",
       "\n",
       "Rows: 1\n",
       "\n",
       "Data:\n",
       "+----------------+-----------+----------------+---------------+\n",
       "|      Food      |  Location |   Sentiment    |    Service    |\n",
       "+----------------+-----------+----------------+---------------+\n",
       "| 0.918340026774 | 0.9234375 | 0.871316897174 | 0.92972972973 |\n",
       "+----------------+-----------+----------------+---------------+\n",
       "[1 rows x 4 columns]"
      ]
     },
     "execution_count": 49,
     "metadata": {},
     "output_type": "execute_result"
    }
   ],
   "source": [
    "accuracy"
   ]
  }
 ],
 "metadata": {
  "kernelspec": {
   "display_name": "Python 2",
   "language": "python",
   "name": "python2"
  },
  "language_info": {
   "codemirror_mode": {
    "name": "ipython",
    "version": 2
   },
   "file_extension": ".py",
   "mimetype": "text/x-python",
   "name": "python",
   "nbconvert_exporter": "python",
   "pygments_lexer": "ipython2",
   "version": "2.7.11"
  }
 },
 "nbformat": 4,
 "nbformat_minor": 1
}
